{
  "nbformat": 4,
  "nbformat_minor": 0,
  "metadata": {
    "colab": {
      "name": "Working_Q3.ipynb",
      "provenance": [],
      "collapsed_sections": []
    },
    "kernelspec": {
      "name": "python3",
      "display_name": "Python 3"
    },
    "accelerator": "GPU"
  },
  "cells": [
    {
      "cell_type": "code",
      "metadata": {
        "id": "2TCBpIftRo5m"
      },
      "source": [
        "import re\n",
        "import gc\n",
        "import time\n",
        "import os\n",
        "import pickle\n",
        "import numpy as np\n",
        "import matplotlib.pyplot as plt"
      ],
      "execution_count": null,
      "outputs": []
    },
    {
      "cell_type": "code",
      "metadata": {
        "colab": {
          "base_uri": "https://localhost:8080/"
        },
        "id": "YlhCGXxqQ7aB",
        "outputId": "ffa2799c-80fc-4576-e93e-9e6ba09ea0d8"
      },
      "source": [
        "! pip install torchtext==0.6.0"
      ],
      "execution_count": null,
      "outputs": [
        {
          "output_type": "stream",
          "text": [
            "Requirement already satisfied: torchtext==0.6.0 in /usr/local/lib/python3.6/dist-packages (0.6.0)\n",
            "Requirement already satisfied: six in /usr/local/lib/python3.6/dist-packages (from torchtext==0.6.0) (1.15.0)\n",
            "Requirement already satisfied: tqdm in /usr/local/lib/python3.6/dist-packages (from torchtext==0.6.0) (4.41.1)\n",
            "Requirement already satisfied: sentencepiece in /usr/local/lib/python3.6/dist-packages (from torchtext==0.6.0) (0.1.95)\n",
            "Requirement already satisfied: requests in /usr/local/lib/python3.6/dist-packages (from torchtext==0.6.0) (2.23.0)\n",
            "Requirement already satisfied: torch in /usr/local/lib/python3.6/dist-packages (from torchtext==0.6.0) (1.7.0+cu101)\n",
            "Requirement already satisfied: numpy in /usr/local/lib/python3.6/dist-packages (from torchtext==0.6.0) (1.19.5)\n",
            "Requirement already satisfied: chardet<4,>=3.0.2 in /usr/local/lib/python3.6/dist-packages (from requests->torchtext==0.6.0) (3.0.4)\n",
            "Requirement already satisfied: certifi>=2017.4.17 in /usr/local/lib/python3.6/dist-packages (from requests->torchtext==0.6.0) (2020.12.5)\n",
            "Requirement already satisfied: urllib3!=1.25.0,!=1.25.1,<1.26,>=1.21.1 in /usr/local/lib/python3.6/dist-packages (from requests->torchtext==0.6.0) (1.24.3)\n",
            "Requirement already satisfied: idna<3,>=2.5 in /usr/local/lib/python3.6/dist-packages (from requests->torchtext==0.6.0) (2.10)\n",
            "Requirement already satisfied: typing-extensions in /usr/local/lib/python3.6/dist-packages (from torch->torchtext==0.6.0) (3.7.4.3)\n",
            "Requirement already satisfied: dataclasses in /usr/local/lib/python3.6/dist-packages (from torch->torchtext==0.6.0) (0.8)\n",
            "Requirement already satisfied: future in /usr/local/lib/python3.6/dist-packages (from torch->torchtext==0.6.0) (0.16.0)\n"
          ],
          "name": "stdout"
        }
      ]
    },
    {
      "cell_type": "code",
      "metadata": {
        "colab": {
          "base_uri": "https://localhost:8080/",
          "height": 49
        },
        "id": "BQpWK5W9SDSE",
        "outputId": "141dc3f5-8601-460f-b492-b19a59495837"
      },
      "source": [
        "import torchtext\n",
        "torchtext.__version__"
      ],
      "execution_count": null,
      "outputs": [
        {
          "output_type": "execute_result",
          "data": {
            "application/vnd.google.colaboratory.intrinsic+json": {
              "type": "string"
            },
            "text/plain": [
              "'0.6.0'"
            ]
          },
          "metadata": {
            "tags": []
          },
          "execution_count": 3
        }
      ]
    },
    {
      "cell_type": "code",
      "metadata": {
        "id": "mzb2shBeV-8b"
      },
      "source": [
        "from torchtext.data.metrics import bleu_score\n",
        "import torch\n",
        "import torch.nn as nn"
      ],
      "execution_count": null,
      "outputs": []
    },
    {
      "cell_type": "code",
      "metadata": {
        "colab": {
          "base_uri": "https://localhost:8080/"
        },
        "id": "D87sMxIChfCl",
        "outputId": "46e19d99-c380-44a5-92a1-3841b70e6367"
      },
      "source": [
        "device = torch.device(\"cuda\" if torch.cuda.is_available() else \"cpu\")\n",
        "print(device)"
      ],
      "execution_count": null,
      "outputs": [
        {
          "output_type": "stream",
          "text": [
            "cuda\n"
          ],
          "name": "stdout"
        }
      ]
    },
    {
      "cell_type": "markdown",
      "metadata": {
        "id": "uSVRQImy83FM"
      },
      "source": [
        "http://peterbloem.nl/blog/transformers"
      ]
    },
    {
      "cell_type": "code",
      "metadata": {
        "id": "rOGRi_5UhdGq",
        "colab": {
          "base_uri": "https://localhost:8080/"
        },
        "outputId": "0072b834-ea97-444d-d66b-1b806cc31d5e"
      },
      "source": [
        "! pip install spacy\n",
        "! python -m spacy download de_core_news_sm"
      ],
      "execution_count": null,
      "outputs": [
        {
          "output_type": "stream",
          "text": [
            "Requirement already satisfied: spacy in /usr/local/lib/python3.6/dist-packages (2.2.4)\n",
            "Requirement already satisfied: cymem<2.1.0,>=2.0.2 in /usr/local/lib/python3.6/dist-packages (from spacy) (2.0.5)\n",
            "Requirement already satisfied: catalogue<1.1.0,>=0.0.7 in /usr/local/lib/python3.6/dist-packages (from spacy) (1.0.0)\n",
            "Requirement already satisfied: tqdm<5.0.0,>=4.38.0 in /usr/local/lib/python3.6/dist-packages (from spacy) (4.41.1)\n",
            "Requirement already satisfied: plac<1.2.0,>=0.9.6 in /usr/local/lib/python3.6/dist-packages (from spacy) (1.1.3)\n",
            "Requirement already satisfied: blis<0.5.0,>=0.4.0 in /usr/local/lib/python3.6/dist-packages (from spacy) (0.4.1)\n",
            "Requirement already satisfied: wasabi<1.1.0,>=0.4.0 in /usr/local/lib/python3.6/dist-packages (from spacy) (0.8.0)\n",
            "Requirement already satisfied: srsly<1.1.0,>=1.0.2 in /usr/local/lib/python3.6/dist-packages (from spacy) (1.0.5)\n",
            "Requirement already satisfied: requests<3.0.0,>=2.13.0 in /usr/local/lib/python3.6/dist-packages (from spacy) (2.23.0)\n",
            "Requirement already satisfied: preshed<3.1.0,>=3.0.2 in /usr/local/lib/python3.6/dist-packages (from spacy) (3.0.5)\n",
            "Requirement already satisfied: numpy>=1.15.0 in /usr/local/lib/python3.6/dist-packages (from spacy) (1.19.5)\n",
            "Requirement already satisfied: setuptools in /usr/local/lib/python3.6/dist-packages (from spacy) (51.3.3)\n",
            "Requirement already satisfied: murmurhash<1.1.0,>=0.28.0 in /usr/local/lib/python3.6/dist-packages (from spacy) (1.0.5)\n",
            "Requirement already satisfied: thinc==7.4.0 in /usr/local/lib/python3.6/dist-packages (from spacy) (7.4.0)\n",
            "Requirement already satisfied: importlib-metadata>=0.20; python_version < \"3.8\" in /usr/local/lib/python3.6/dist-packages (from catalogue<1.1.0,>=0.0.7->spacy) (3.3.0)\n",
            "Requirement already satisfied: urllib3!=1.25.0,!=1.25.1,<1.26,>=1.21.1 in /usr/local/lib/python3.6/dist-packages (from requests<3.0.0,>=2.13.0->spacy) (1.24.3)\n",
            "Requirement already satisfied: idna<3,>=2.5 in /usr/local/lib/python3.6/dist-packages (from requests<3.0.0,>=2.13.0->spacy) (2.10)\n",
            "Requirement already satisfied: certifi>=2017.4.17 in /usr/local/lib/python3.6/dist-packages (from requests<3.0.0,>=2.13.0->spacy) (2020.12.5)\n",
            "Requirement already satisfied: chardet<4,>=3.0.2 in /usr/local/lib/python3.6/dist-packages (from requests<3.0.0,>=2.13.0->spacy) (3.0.4)\n",
            "Requirement already satisfied: typing-extensions>=3.6.4; python_version < \"3.8\" in /usr/local/lib/python3.6/dist-packages (from importlib-metadata>=0.20; python_version < \"3.8\"->catalogue<1.1.0,>=0.0.7->spacy) (3.7.4.3)\n",
            "Requirement already satisfied: zipp>=0.5 in /usr/local/lib/python3.6/dist-packages (from importlib-metadata>=0.20; python_version < \"3.8\"->catalogue<1.1.0,>=0.0.7->spacy) (3.4.0)\n",
            "Requirement already satisfied: de_core_news_sm==2.2.5 from https://github.com/explosion/spacy-models/releases/download/de_core_news_sm-2.2.5/de_core_news_sm-2.2.5.tar.gz#egg=de_core_news_sm==2.2.5 in /usr/local/lib/python3.6/dist-packages (2.2.5)\n",
            "Requirement already satisfied: spacy>=2.2.2 in /usr/local/lib/python3.6/dist-packages (from de_core_news_sm==2.2.5) (2.2.4)\n",
            "Requirement already satisfied: blis<0.5.0,>=0.4.0 in /usr/local/lib/python3.6/dist-packages (from spacy>=2.2.2->de_core_news_sm==2.2.5) (0.4.1)\n",
            "Requirement already satisfied: numpy>=1.15.0 in /usr/local/lib/python3.6/dist-packages (from spacy>=2.2.2->de_core_news_sm==2.2.5) (1.19.5)\n",
            "Requirement already satisfied: tqdm<5.0.0,>=4.38.0 in /usr/local/lib/python3.6/dist-packages (from spacy>=2.2.2->de_core_news_sm==2.2.5) (4.41.1)\n",
            "Requirement already satisfied: setuptools in /usr/local/lib/python3.6/dist-packages (from spacy>=2.2.2->de_core_news_sm==2.2.5) (51.3.3)\n",
            "Requirement already satisfied: thinc==7.4.0 in /usr/local/lib/python3.6/dist-packages (from spacy>=2.2.2->de_core_news_sm==2.2.5) (7.4.0)\n",
            "Requirement already satisfied: srsly<1.1.0,>=1.0.2 in /usr/local/lib/python3.6/dist-packages (from spacy>=2.2.2->de_core_news_sm==2.2.5) (1.0.5)\n",
            "Requirement already satisfied: wasabi<1.1.0,>=0.4.0 in /usr/local/lib/python3.6/dist-packages (from spacy>=2.2.2->de_core_news_sm==2.2.5) (0.8.0)\n",
            "Requirement already satisfied: murmurhash<1.1.0,>=0.28.0 in /usr/local/lib/python3.6/dist-packages (from spacy>=2.2.2->de_core_news_sm==2.2.5) (1.0.5)\n",
            "Requirement already satisfied: catalogue<1.1.0,>=0.0.7 in /usr/local/lib/python3.6/dist-packages (from spacy>=2.2.2->de_core_news_sm==2.2.5) (1.0.0)\n",
            "Requirement already satisfied: plac<1.2.0,>=0.9.6 in /usr/local/lib/python3.6/dist-packages (from spacy>=2.2.2->de_core_news_sm==2.2.5) (1.1.3)\n",
            "Requirement already satisfied: requests<3.0.0,>=2.13.0 in /usr/local/lib/python3.6/dist-packages (from spacy>=2.2.2->de_core_news_sm==2.2.5) (2.23.0)\n",
            "Requirement already satisfied: cymem<2.1.0,>=2.0.2 in /usr/local/lib/python3.6/dist-packages (from spacy>=2.2.2->de_core_news_sm==2.2.5) (2.0.5)\n",
            "Requirement already satisfied: preshed<3.1.0,>=3.0.2 in /usr/local/lib/python3.6/dist-packages (from spacy>=2.2.2->de_core_news_sm==2.2.5) (3.0.5)\n",
            "Requirement already satisfied: importlib-metadata>=0.20; python_version < \"3.8\" in /usr/local/lib/python3.6/dist-packages (from catalogue<1.1.0,>=0.0.7->spacy>=2.2.2->de_core_news_sm==2.2.5) (3.3.0)\n",
            "Requirement already satisfied: chardet<4,>=3.0.2 in /usr/local/lib/python3.6/dist-packages (from requests<3.0.0,>=2.13.0->spacy>=2.2.2->de_core_news_sm==2.2.5) (3.0.4)\n",
            "Requirement already satisfied: urllib3!=1.25.0,!=1.25.1,<1.26,>=1.21.1 in /usr/local/lib/python3.6/dist-packages (from requests<3.0.0,>=2.13.0->spacy>=2.2.2->de_core_news_sm==2.2.5) (1.24.3)\n",
            "Requirement already satisfied: certifi>=2017.4.17 in /usr/local/lib/python3.6/dist-packages (from requests<3.0.0,>=2.13.0->spacy>=2.2.2->de_core_news_sm==2.2.5) (2020.12.5)\n",
            "Requirement already satisfied: idna<3,>=2.5 in /usr/local/lib/python3.6/dist-packages (from requests<3.0.0,>=2.13.0->spacy>=2.2.2->de_core_news_sm==2.2.5) (2.10)\n",
            "Requirement already satisfied: zipp>=0.5 in /usr/local/lib/python3.6/dist-packages (from importlib-metadata>=0.20; python_version < \"3.8\"->catalogue<1.1.0,>=0.0.7->spacy>=2.2.2->de_core_news_sm==2.2.5) (3.4.0)\n",
            "Requirement already satisfied: typing-extensions>=3.6.4; python_version < \"3.8\" in /usr/local/lib/python3.6/dist-packages (from importlib-metadata>=0.20; python_version < \"3.8\"->catalogue<1.1.0,>=0.0.7->spacy>=2.2.2->de_core_news_sm==2.2.5) (3.7.4.3)\n",
            "\u001b[38;5;2m✔ Download and installation successful\u001b[0m\n",
            "You can now load the model via spacy.load('de_core_news_sm')\n"
          ],
          "name": "stdout"
        }
      ]
    },
    {
      "cell_type": "markdown",
      "metadata": {
        "id": "qZbbwi24ai2S"
      },
      "source": [
        "# **EMBEDDINGS**\n",
        "\n",
        "\n",
        "I am using spacy english and german embeddings"
      ]
    },
    {
      "cell_type": "code",
      "metadata": {
        "colab": {
          "base_uri": "https://localhost:8080/"
        },
        "id": "a2dKZBPshZLj",
        "outputId": "0889985b-b81d-4f45-cc01-36a4d21bd589"
      },
      "source": [
        "import spacy\n",
        "import de_core_news_sm\n",
        "spacy.prefer_gpu()"
      ],
      "execution_count": null,
      "outputs": [
        {
          "output_type": "execute_result",
          "data": {
            "text/plain": [
              "True"
            ]
          },
          "metadata": {
            "tags": []
          },
          "execution_count": 7
        }
      ]
    },
    {
      "cell_type": "code",
      "metadata": {
        "id": "WQ7C-jQfobSw"
      },
      "source": [
        "class NMT(nn.Module):\n",
        "    def __init__(self,embedding_size,heads,encoders_layers,decoders_layers,source_vocab_size,target_vocab_size,pad_index,max_len):\n",
        "        super(NMT,self).__init__()\n",
        "        self.pad_index = pad_index\n",
        "        #create embedding of vectors for the source language\n",
        "        self.source_embedding = nn.Embedding(source_vocab_size,embedding_size)\n",
        "        #mark the index only for an input sentence of max_len\n",
        "        self.source_position_embedding  =  nn.Embedding(max_len,embedding_size)\n",
        "\n",
        "        #create embedding of vectors for the target language\n",
        "        self.target_embedding = nn.Embedding(target_vocab_size,embedding_size)\n",
        "\n",
        "        #mark the index only for an input sentence of max_len\n",
        "        self.target_position_embedding  =  nn.Embedding(max_len,embedding_size)\n",
        "\n",
        "        #transformer syntax : https://pytorch.org/hub/huggingface_pytorch-transformers/\n",
        "        self.transformer = nn.Transformer(embedding_size,heads,encoders_layers,decoders_layers,dim_feedforward=2048,dropout=0.1)\n",
        "        #last layer\n",
        "        self.fullyconnected = nn.Linear(embedding_size,target_vocab_size)\n",
        "        #drop outs for the embeddings\n",
        "        self.dropout = nn.Dropout(0.1)             \n",
        "    \n",
        "    def get_source_mask(self,source_text):\n",
        "        #input source text size is embedding size, batch size\n",
        "        \n",
        "        source_mask = source_text.transpose(0,1) == self.pad_index\n",
        "        # print(source_text.transpose(0,1).shape)\n",
        "        return source_mask.to(device)\n",
        "\n",
        "    def forward(self,source,target):\n",
        "\n",
        "        source_len,batch_size = source.shape\n",
        "        target_len,batch_size = target.shape\n",
        "        #create a list of indices from 0 to the len of the source language\n",
        "        #add a dimension by unsqueezing\n",
        "        #convert to input size by sequence length by batch_size dimension\n",
        "        source_positions = (torch.arange(0,source_len).unsqueeze(1).expand(source_len,batch_size)).to(device) #invariant to positions\n",
        "        target_positions = (torch.arange(0,target_len).unsqueeze(1).expand(target_len,batch_size)).to(device) #invariant to positions\n",
        "\n",
        "        #create the final source embedding by appending the word embedding and the position embedding\n",
        "        source_embedding = self.dropout(self.source_embedding(source) + self.source_position_embedding(source_positions))\n",
        "        target_embedding = self.dropout(self.target_embedding(target) + self.target_position_embedding(target_positions))\n",
        "\n",
        "\n",
        "        source_mask = self.get_source_mask(source)\n",
        "        target_mask = self.transformer.generate_square_subsequent_mask(target_len).to(device)\n",
        "\n",
        "        out = self.transformer(source_embedding,target_embedding,src_key_padding_mask = source_mask,tgt_mask = target_mask)\n",
        "        out = self.fullyconnected(out)\n",
        "        return out"
      ],
      "execution_count": null,
      "outputs": []
    },
    {
      "cell_type": "markdown",
      "metadata": {
        "id": "CDqQx9VgsBxL"
      },
      "source": [
        "# **DATASET**"
      ]
    },
    {
      "cell_type": "code",
      "metadata": {
        "colab": {
          "base_uri": "https://localhost:8080/"
        },
        "id": "nQcj86WvSAXX",
        "outputId": "1eb6b38c-3f78-4678-c0cb-0c1274bbf9d3"
      },
      "source": [
        "import zipfile\n",
        "import urllib.request as request\n",
        "import os\n",
        "import tarfile\n",
        "\n",
        "url = \"https://www.cl.uni-heidelberg.de/statnlpgroup/decoco/ms_coco_parallel.tar.bz2\"\n",
        "\n",
        "\n",
        "#if already uploaded read from here\n",
        "if not os.path.exists('ms_coco_parallel.tar.bz2'):\n",
        "    request.urlretrieve(url,\"ms_coco_parallel.tar.bz2\")\n",
        "\n",
        "\n",
        "with tarfile.open(\"ms_coco_parallel.tar.bz2\",\"r\") as f:\n",
        "    f.extractall()\n",
        "\n",
        "! ls"
      ],
      "execution_count": null,
      "outputs": [
        {
          "output_type": "stream",
          "text": [
            "checkpoint.pth.tar  ms_coco_parallel  ms_coco_parallel.tar.bz2\tsample_data\n"
          ],
          "name": "stdout"
        }
      ]
    },
    {
      "cell_type": "markdown",
      "metadata": {
        "id": "6IZO-jUzsFjr"
      },
      "source": [
        "# **TOKENIZER**"
      ]
    },
    {
      "cell_type": "code",
      "metadata": {
        "id": "p_rL1eetVq8t"
      },
      "source": [
        "def deutsch_tokenizer(text):\n",
        "    \"\"\"\n",
        "    Helper function to create tokens\n",
        "    \"\"\"\n",
        "    spacy_deutsch = de_core_news_sm.load()\n",
        "    return [token.text for token in spacy_deutsch.tokenizer(text)]\n",
        "def english_tokenizer(text):\n",
        "    \"\"\"\n",
        "    Helper function to create tokens\n",
        "    \"\"\"\n",
        "    spacy_english = spacy.load(name = \"en\")\n",
        "    return [token.text for token in spacy_english.tokenizer(text)]    "
      ],
      "execution_count": null,
      "outputs": []
    },
    {
      "cell_type": "markdown",
      "metadata": {
        "id": "PMwKvQVtsVaR"
      },
      "source": [
        "# **SOURCE AND TARGET**\n",
        "\n",
        "\n",
        "***You can change to source and target languages***"
      ]
    },
    {
      "cell_type": "code",
      "metadata": {
        "id": "CNYRcN1mlAcA"
      },
      "source": [
        "source_language,source_extention = \"english\",\".en\"\n",
        "#the downloaded files of the dataset has english text in .en extention\n",
        "source = torchtext.data.Field(tokenize = english_tokenizer,lower = True, init_token=\"<sos>\",eos_token=\"<eos>\")\n",
        "\n",
        "target_language,target_extention = \"deutsch\",\".de\"\n",
        "#the downloaded files of the dataset has deutsch text in .de extention\n",
        "target = torchtext.data.Field(tokenize = deutsch_tokenizer,lower = True, init_token=\"<sos>\",eos_token=\"<eos>\")\n"
      ],
      "execution_count": null,
      "outputs": []
    },
    {
      "cell_type": "code",
      "metadata": {
        "id": "oMJueHz73Kfs"
      },
      "source": [
        "# source_language,source_extention = \"deutsch\",\".de\"\n",
        "# #the downloaded files of the dataset has english text in .en extention\n",
        "# source = torchtext.data.Field(tokenize = deutsch_tokenizer,lower = True, init_token=\"<sos>\",eos_token=\"<eos>\")\n",
        "\n",
        "# target_language,target_extention = \"english\",\".en\"\n",
        "# #the downloaded files of the dataset has deutsch text in .de extention\n",
        "# target = torchtext.data.Field(tokenize = english_tokenizer,lower = True, init_token=\"<sos>\",eos_token=\"<eos>\")\n"
      ],
      "execution_count": null,
      "outputs": []
    },
    {
      "cell_type": "code",
      "metadata": {
        "id": "2kx9x6J8WKry"
      },
      "source": [
        "import torchtext.datasets\n",
        "train = torchtext.datasets.TranslationDataset(path='/content/ms_coco_parallel/dev', exts=(source_extention,target_extention), fields=(source, target))\n",
        "# validation = torchtext.datasets.TranslationDataset(path='/content/ms_coco_parallel/devtest', exts=(source_extention,target_extention), fields=(source, target))\n",
        "# test = torchtext.datasets.TranslationDataset(path='/content/ms_coco_parallel/test', exts=(source_extention,target_extention), fields=(source, target))"
      ],
      "execution_count": null,
      "outputs": []
    },
    {
      "cell_type": "code",
      "metadata": {
        "id": "4rsH6EXOsr1_"
      },
      "source": [
        "source.build_vocab(train, max_size=5000) #maximum lenght of sequence give to the neural network\n",
        "target.build_vocab(train, max_size=5000)"
      ],
      "execution_count": null,
      "outputs": []
    },
    {
      "cell_type": "code",
      "metadata": {
        "id": "AmTyJVxnkaOC"
      },
      "source": [
        "if source_language == \"english\":\n",
        "    # from_ = english\n",
        "    # to = deutsch\n",
        "    spacy_source = spacy.load(name = \"en\")\n",
        "else:\n",
        "    spacy_source = de_core_news_sm.load()"
      ],
      "execution_count": null,
      "outputs": []
    },
    {
      "cell_type": "code",
      "metadata": {
        "id": "3x44e3p6GvPU"
      },
      "source": [
        "#make an iterator of batch size 32\n",
        "train_loader = torchtext.data.BucketIterator(dataset=train, batch_size=32,sort_key=lambda x: data.interleave_keys(len(x.source), len(x.target)))  #source,target"
      ],
      "execution_count": null,
      "outputs": []
    },
    {
      "cell_type": "markdown",
      "metadata": {
        "id": "n7ppqrQ7s9C6"
      },
      "source": [
        "***HYPERPARAMETERS***"
      ]
    },
    {
      "cell_type": "code",
      "metadata": {
        "id": "itRCxo9GG6Af"
      },
      "source": [
        "source_vocab_size = len(source.vocab)\n",
        "target_vocab_size = len(target.vocab)\n",
        "\n",
        "source_pad_index = source.vocab.stoi[\"<pad>\"]\n",
        "target_pad_index = target.vocab.stoi[\"<pad>\"]\n",
        "\n",
        "embedding_size = 512  #d_model\n",
        "heads = 8             #n_heads\n",
        "encoders_layers = 3   #num_encoder_layers\n",
        "decoders_layers = 3   #num_decoder_layers\n",
        "max_len = 100 #sentence length used for positional embedding anything greater than max length will be deleted\n",
        "learning_rate =0.0003"
      ],
      "execution_count": null,
      "outputs": []
    },
    {
      "cell_type": "code",
      "metadata": {
        "id": "2QRa7Oda96Uh"
      },
      "source": [
        "model = NMT(embedding_size,heads,encoders_layers,decoders_layers,source_vocab_size,target_vocab_size,source_pad_index,max_len).to(device)\n",
        "\n",
        "optimizer = torch.optim.Adam(model.parameters(),lr = learning_rate)\n",
        "\n",
        "criterion = nn.CrossEntropyLoss(ignore_index = target_pad_index)"
      ],
      "execution_count": null,
      "outputs": []
    },
    {
      "cell_type": "code",
      "metadata": {
        "id": "N6B9WK6sCHua"
      },
      "source": [
        "import os\n",
        "if os.path.exists(\"checkpoint.ptr.ptar\"):\n",
        "    model.load_state_dict(checkpoint[\"state_dict\"])\n",
        "    optimizer.load_state_dict(checkpoint[\"optimizer\"])\n",
        "\n",
        "save_model = True\n",
        "filename = \"checkpoint.pth.tar\""
      ],
      "execution_count": null,
      "outputs": []
    },
    {
      "cell_type": "code",
      "metadata": {
        "colab": {
          "base_uri": "https://localhost:8080/"
        },
        "id": "OOkyvP1woQwO",
        "outputId": "ea76e25a-5479-4d1c-833f-1776db87448d"
      },
      "source": [
        "model"
      ],
      "execution_count": null,
      "outputs": [
        {
          "output_type": "execute_result",
          "data": {
            "text/plain": [
              "NMT(\n",
              "  (source_embedding): Embedding(756, 512)\n",
              "  (source_position_embedding): Embedding(100, 512)\n",
              "  (target_embedding): Embedding(722, 512)\n",
              "  (target_position_embedding): Embedding(100, 512)\n",
              "  (transformer): Transformer(\n",
              "    (encoder): TransformerEncoder(\n",
              "      (layers): ModuleList(\n",
              "        (0): TransformerEncoderLayer(\n",
              "          (self_attn): MultiheadAttention(\n",
              "            (out_proj): _LinearWithBias(in_features=512, out_features=512, bias=True)\n",
              "          )\n",
              "          (linear1): Linear(in_features=512, out_features=2048, bias=True)\n",
              "          (dropout): Dropout(p=0.1, inplace=False)\n",
              "          (linear2): Linear(in_features=2048, out_features=512, bias=True)\n",
              "          (norm1): LayerNorm((512,), eps=1e-05, elementwise_affine=True)\n",
              "          (norm2): LayerNorm((512,), eps=1e-05, elementwise_affine=True)\n",
              "          (dropout1): Dropout(p=0.1, inplace=False)\n",
              "          (dropout2): Dropout(p=0.1, inplace=False)\n",
              "        )\n",
              "        (1): TransformerEncoderLayer(\n",
              "          (self_attn): MultiheadAttention(\n",
              "            (out_proj): _LinearWithBias(in_features=512, out_features=512, bias=True)\n",
              "          )\n",
              "          (linear1): Linear(in_features=512, out_features=2048, bias=True)\n",
              "          (dropout): Dropout(p=0.1, inplace=False)\n",
              "          (linear2): Linear(in_features=2048, out_features=512, bias=True)\n",
              "          (norm1): LayerNorm((512,), eps=1e-05, elementwise_affine=True)\n",
              "          (norm2): LayerNorm((512,), eps=1e-05, elementwise_affine=True)\n",
              "          (dropout1): Dropout(p=0.1, inplace=False)\n",
              "          (dropout2): Dropout(p=0.1, inplace=False)\n",
              "        )\n",
              "        (2): TransformerEncoderLayer(\n",
              "          (self_attn): MultiheadAttention(\n",
              "            (out_proj): _LinearWithBias(in_features=512, out_features=512, bias=True)\n",
              "          )\n",
              "          (linear1): Linear(in_features=512, out_features=2048, bias=True)\n",
              "          (dropout): Dropout(p=0.1, inplace=False)\n",
              "          (linear2): Linear(in_features=2048, out_features=512, bias=True)\n",
              "          (norm1): LayerNorm((512,), eps=1e-05, elementwise_affine=True)\n",
              "          (norm2): LayerNorm((512,), eps=1e-05, elementwise_affine=True)\n",
              "          (dropout1): Dropout(p=0.1, inplace=False)\n",
              "          (dropout2): Dropout(p=0.1, inplace=False)\n",
              "        )\n",
              "      )\n",
              "      (norm): LayerNorm((512,), eps=1e-05, elementwise_affine=True)\n",
              "    )\n",
              "    (decoder): TransformerDecoder(\n",
              "      (layers): ModuleList(\n",
              "        (0): TransformerDecoderLayer(\n",
              "          (self_attn): MultiheadAttention(\n",
              "            (out_proj): _LinearWithBias(in_features=512, out_features=512, bias=True)\n",
              "          )\n",
              "          (multihead_attn): MultiheadAttention(\n",
              "            (out_proj): _LinearWithBias(in_features=512, out_features=512, bias=True)\n",
              "          )\n",
              "          (linear1): Linear(in_features=512, out_features=2048, bias=True)\n",
              "          (dropout): Dropout(p=0.1, inplace=False)\n",
              "          (linear2): Linear(in_features=2048, out_features=512, bias=True)\n",
              "          (norm1): LayerNorm((512,), eps=1e-05, elementwise_affine=True)\n",
              "          (norm2): LayerNorm((512,), eps=1e-05, elementwise_affine=True)\n",
              "          (norm3): LayerNorm((512,), eps=1e-05, elementwise_affine=True)\n",
              "          (dropout1): Dropout(p=0.1, inplace=False)\n",
              "          (dropout2): Dropout(p=0.1, inplace=False)\n",
              "          (dropout3): Dropout(p=0.1, inplace=False)\n",
              "        )\n",
              "        (1): TransformerDecoderLayer(\n",
              "          (self_attn): MultiheadAttention(\n",
              "            (out_proj): _LinearWithBias(in_features=512, out_features=512, bias=True)\n",
              "          )\n",
              "          (multihead_attn): MultiheadAttention(\n",
              "            (out_proj): _LinearWithBias(in_features=512, out_features=512, bias=True)\n",
              "          )\n",
              "          (linear1): Linear(in_features=512, out_features=2048, bias=True)\n",
              "          (dropout): Dropout(p=0.1, inplace=False)\n",
              "          (linear2): Linear(in_features=2048, out_features=512, bias=True)\n",
              "          (norm1): LayerNorm((512,), eps=1e-05, elementwise_affine=True)\n",
              "          (norm2): LayerNorm((512,), eps=1e-05, elementwise_affine=True)\n",
              "          (norm3): LayerNorm((512,), eps=1e-05, elementwise_affine=True)\n",
              "          (dropout1): Dropout(p=0.1, inplace=False)\n",
              "          (dropout2): Dropout(p=0.1, inplace=False)\n",
              "          (dropout3): Dropout(p=0.1, inplace=False)\n",
              "        )\n",
              "        (2): TransformerDecoderLayer(\n",
              "          (self_attn): MultiheadAttention(\n",
              "            (out_proj): _LinearWithBias(in_features=512, out_features=512, bias=True)\n",
              "          )\n",
              "          (multihead_attn): MultiheadAttention(\n",
              "            (out_proj): _LinearWithBias(in_features=512, out_features=512, bias=True)\n",
              "          )\n",
              "          (linear1): Linear(in_features=512, out_features=2048, bias=True)\n",
              "          (dropout): Dropout(p=0.1, inplace=False)\n",
              "          (linear2): Linear(in_features=2048, out_features=512, bias=True)\n",
              "          (norm1): LayerNorm((512,), eps=1e-05, elementwise_affine=True)\n",
              "          (norm2): LayerNorm((512,), eps=1e-05, elementwise_affine=True)\n",
              "          (norm3): LayerNorm((512,), eps=1e-05, elementwise_affine=True)\n",
              "          (dropout1): Dropout(p=0.1, inplace=False)\n",
              "          (dropout2): Dropout(p=0.1, inplace=False)\n",
              "          (dropout3): Dropout(p=0.1, inplace=False)\n",
              "        )\n",
              "      )\n",
              "      (norm): LayerNorm((512,), eps=1e-05, elementwise_affine=True)\n",
              "    )\n",
              "  )\n",
              "  (fullyconnected): Linear(in_features=512, out_features=722, bias=True)\n",
              "  (dropout): Dropout(p=0.1, inplace=False)\n",
              ")"
            ]
          },
          "metadata": {
            "tags": []
          },
          "execution_count": 20
        }
      ]
    },
    {
      "cell_type": "code",
      "metadata": {
        "id": "kQR_9eMdH9TG"
      },
      "source": [
        "def translate_sentence(model, sentence, source,target, max_len):\n",
        "    # print(sentence)\n",
        "    #step 1: get the index for each source word\n",
        "    #insert start of sentence token\n",
        "    tokens = [source.init_token]\n",
        "    if type(sentence) == str:\n",
        "        tokens.extend([token.text.lower() for token in spacy_source(sentence)])\n",
        "    else:\n",
        "        tokens.extend([token.lower() for token in sentence])\n",
        "\n",
        "    #insert end of sentence token\n",
        "    tokens.append(source.eos_token)\n",
        "    # print(\"Token\",tokens)\n",
        "\n",
        "    #step 2: get the index corresponding to the index from step 1\n",
        "    \n",
        "    text_to_indices = [source.vocab.stoi[token] for token in tokens]\n",
        "    # list of indices to tensor \n",
        "    source_tensor = torch.LongTensor(text_to_indices).unsqueeze(1).to(device)\n",
        "    #start the output with the start of the sentence in the target language\n",
        "    outputs = [target.vocab.stoi[\"<sos>\"]]\n",
        "\n",
        "    #max len is the maximum number of words in the sentence used for translation\n",
        "\n",
        "    for _ in range(max_len):\n",
        "        #take the last output and give it to the decoder\n",
        "        target_tensor = torch.LongTensor(outputs).unsqueeze(1).to(device)\n",
        "        with torch.no_grad():\n",
        "            output = model(source_tensor, target_tensor)\n",
        "        prediction = output.argmax(2)[-1,:].item()\n",
        "        outputs.append(prediction)\n",
        "        #stop if it is the end of sentence\n",
        "        if prediction == target.vocab.stoi[\"<eos>\"]:\n",
        "            break\n",
        "\n",
        "    translated_sentence = [target.vocab.itos[idx] for idx in outputs]\n",
        "    # send without the sos\n",
        "    return translated_sentence[1:]\n",
        "\n"
      ],
      "execution_count": null,
      "outputs": []
    },
    {
      "cell_type": "code",
      "metadata": {
        "id": "-mem8DmYScDr"
      },
      "source": [
        "# model.transformer.encoder"
      ],
      "execution_count": null,
      "outputs": []
    },
    {
      "cell_type": "code",
      "metadata": {
        "id": "qJ2MNisRe8FA"
      },
      "source": [
        "# from torch.utils.tensorboard import SummaryWriter\n",
        "# writer = SummaryWriter(\"runs/loss_plot\")"
      ],
      "execution_count": null,
      "outputs": []
    },
    {
      "cell_type": "code",
      "metadata": {
        "id": "WpLp0ib9qQDX"
      },
      "source": [
        "# sentence = \"ich bin ein mann\"\n",
        "sentence = \"It it raining cats and dogs\""
      ],
      "execution_count": null,
      "outputs": []
    },
    {
      "cell_type": "code",
      "metadata": {
        "id": "ro9C90jkCS-K",
        "colab": {
          "base_uri": "https://localhost:8080/"
        },
        "outputId": "6b2273a2-292f-47c9-8b1e-108a27720811"
      },
      "source": [
        "step =0\n",
        "nEpochs = 50\n",
        "\n",
        "for epoch in range(nEpochs):\n",
        "    print(f\"[{epoch}/{nEpochs}]\")\n",
        "    if save_model:\n",
        "        checkpoint = {\n",
        "            \"state_dict\":model.state_dict(),\n",
        "            \"optimizer\":optimizer.state_dict()\n",
        "\n",
        "        }\n",
        "        torch.save(checkpoint, filename)\n",
        "        \n",
        "    model.eval()\n",
        "    translation = translate_sentence(model,sentence,source,target,max_len)\n",
        "    print(f\"Translated sentence{translation}\")\n",
        "    losses = []\n",
        "    model.train()\n",
        "    for batch_num,data in enumerate(train_loader):\n",
        "        input_text = data.src.to(device)\n",
        "        target_text = data.trg.to(device)\n",
        "        output = model(input_text, target_text[:-1, :]) #create shift output is 1 time step ahead of the input for that timestep\n",
        "        output = output.reshape(-1,output.shape[2])\n",
        "        target_text = target_text[1:].reshape(-1) #shift of 1, output is 1 ahead this just the index for every word we want\n",
        "        optimizer.zero_grad()\n",
        "        loss = criterion(output,target_text)\n",
        "        loss.backward()\n",
        "        torch.nn.utils.clip_grad_norm_(model.parameters(),max_norm=1)\n",
        "        optimizer.step()\n",
        "        losses.append(loss.detach().item()*input_text.size(0))\n",
        "        if step%100 == 0:\n",
        "            print(\"Training Loss\",losses[-1])\n",
        "        # writer.add_scalar(\"Training loss\",loss.detach().item(),global_step=step)\n",
        "        step+=1\n",
        "    mean_loss = sum(losses) / len(train_loader.dataset)\n"
      ],
      "execution_count": null,
      "outputs": [
        {
          "output_type": "stream",
          "text": [
            "[0/50]\n",
            "Translated sentence['a', 'man', 'with', 'a', 'tennis', 'of', 'a', 'man', 'with', 'a', 'man', '.', '<eos>']\n",
            "Training Loss 44.45225214958191\n",
            "[1/50]\n",
            "Translated sentence['a', 'man', 'is', 'a', 'white', 'shirt', 'and', 'a', 'frisbee', '.', '<eos>']\n",
            "[2/50]\n",
            "Translated sentence['a', 'man', 'is', 'only', 'a', 'tennis', 'ball', '<eos>']\n",
            "[3/50]\n",
            "Translated sentence['a', 'man', 'is', 'only', 'a', 'picture', 'in', 'a', 'frisbee', '.', '<eos>']\n",
            "[4/50]\n",
            "Translated sentence['a', 'man', 'is', 'surfing', 'on', 'a', 'red', 'surf', '.', '<eos>']\n",
            "[5/50]\n",
            "Translated sentence['a', 'man', 'is', 'surfing', 'on', 'a', 'snow', 'covered', 'slope', '.', '<eos>']\n",
            "[6/50]\n",
            "Translated sentence['a', 'man', 'is', 'surfing', 'on', 'a', 'snow', 'covered', 'to', 'a', 'snow', '.', '<eos>']\n",
            "[7/50]\n",
            "Translated sentence['a', 'man', 'is', 'only', 'a', 'picture', 'in', 'a', 'frisbee', '.', '<eos>']\n",
            "[8/50]\n",
            "Translated sentence['a', 'man', 'is', 'surfing', 'on', 'a', 'red', 'surf', 'board', '.', '<eos>']\n",
            "[9/50]\n",
            "Translated sentence['a', 'man', 'is', 'surfing', 'on', 'a', 'red', 'surf', 'board', '.', '<eos>']\n",
            "[10/50]\n",
            "Translated sentence['a', 'man', 'is', 'only', 'a', 'few', 'inches', 'shorter', 'than', 'his', 'surf', 'board', '.', '<eos>']\n",
            "[11/50]\n",
            "Translated sentence['a', 'man', 'is', 'surfing', 'on', 'a', 'red', 'surf', 'board', '.', '<eos>']\n",
            "[12/50]\n",
            "Translated sentence['a', 'man', 'is', 'having', 'a', 'picture', 'in', 'a', 'cow', '.', '<eos>']\n",
            "Training Loss 7.695965647697449\n",
            "[13/50]\n",
            "Translated sentence['a', 'man', 'is', 'surfing', 'on', 'a', 'red', 'surf', 'board', '.', '<eos>']\n",
            "[14/50]\n",
            "Translated sentence['a', 'man', 'is', 'surfing', 'on', 'a', 'red', 'surf', 'board', '.', '<eos>']\n",
            "[15/50]\n",
            "Translated sentence['a', 'man', 'is', 'having', 'fun', 'in', 'a', 'park', '<eos>']\n",
            "[16/50]\n",
            "Translated sentence['a', 'man', 'is', 'having', 'fun', 'in', 'a', 'park', '<eos>']\n",
            "[17/50]\n",
            "Translated sentence['a', 'man', 'is', 'surfing', 'on', 'a', 'red', 'surf', 'board', '.', '<eos>']\n",
            "[18/50]\n",
            "Translated sentence['a', 'man', 'is', 'surfing', 'on', 'a', 'red', 'surf', 'board', '.', '<eos>']\n",
            "[19/50]\n",
            "Translated sentence['a', 'man', 'is', 'surfing', 'on', 'a', 'red', 'surf', 'board', '.', '<eos>']\n",
            "[20/50]\n",
            "Translated sentence['there', 'are', 'many', 'snowboarders', 'on', 'the', 'snowy', 'mountain', '<eos>']\n",
            "[21/50]\n",
            "Translated sentence['there', 'is', 'a', 'elephant', 'that', 'is', 'decorated', 'with', 'many', 'things', '<eos>']\n",
            "[22/50]\n",
            "Translated sentence['a', 'man', 'is', 'surfing', 'on', 'the', 'land', 'in', 'the', 'mirror', 'of', 'a', 'digital', 'camera', '.', '<eos>']\n",
            "[23/50]\n",
            "Translated sentence['a', 'man', 'is', 'having', 'fun', 'in', 'a', 'park', '<eos>']\n",
            "[24/50]\n",
            "Translated sentence['a', 'man', 'is', 'having', 'fun', 'in', 'a', 'park', '<eos>']\n",
            "[25/50]\n",
            "Translated sentence['there', 'is', 'a', 'elephant', 'that', 'is', 'decorated', 'with', 'many', 'things', '<eos>']\n",
            "Training Loss 0.5365920625627041\n",
            "[26/50]\n",
            "Translated sentence['there', 'is', 'a', 'elephant', 'that', 'is', 'decorated', 'with', 'many', 'things', '<eos>']\n",
            "[27/50]\n",
            "Translated sentence['a', 'man', 'is', 'surfing', 'on', 'a', 'red', 'surf', 'board', '.', '<eos>']\n",
            "[28/50]\n",
            "Translated sentence['a', 'man', 'taking', 'a', 'picture', 'of', 'himself', 'in', 'the', 'mirror', 'with', 'a', 'digital', 'camera', '.', '<eos>']\n",
            "[29/50]\n",
            "Translated sentence['a', 'man', 'is', 'only', 'a', 'few', 'inches', 'shorter', 'than', 'his', 'surf', 'board', '.', '<eos>']\n",
            "[30/50]\n",
            "Translated sentence['there', 'are', 'many', 'snowboarders', 'on', 'the', 'snowy', 'mountain', '<eos>']\n",
            "[31/50]\n",
            "Translated sentence['there', 'is', 'a', 'elephant', 'that', 'is', 'decorated', 'with', 'many', 'things', '<eos>']\n",
            "[32/50]\n",
            "Translated sentence['there', 'is', 'a', 'elephant', 'that', 'is', 'decorated', 'with', 'many', 'things', '<eos>']\n",
            "[33/50]\n",
            "Translated sentence['a', 'man', 'is', 'surfing', 'on', 'a', 'red', 'surf', 'board', '.', '<eos>']\n",
            "[34/50]\n",
            "Translated sentence['there', 'is', 'a', 'elephant', 'that', 'is', 'decorated', 'with', 'many', 'things', '<eos>']\n",
            "[35/50]\n",
            "Translated sentence['a', 'man', 'is', 'only', 'a', 'few', 'inches', 'shorter', 'than', 'his', 'surf', 'board', '.', '<eos>']\n",
            "[36/50]\n",
            "Translated sentence['there', 'is', 'a', 'elephant', 'that', 'is', 'decorated', 'with', 'many', 'things', '<eos>']\n",
            "[37/50]\n",
            "Translated sentence['there', 'is', 'a', 'elephant', 'that', 'is', 'decorated', 'with', 'many', 'things', '<eos>']\n",
            "Training Loss 0.30230174493044615\n",
            "[38/50]\n",
            "Translated sentence['there', 'are', 'many', 'snowboarders', 'on', 'the', 'snowy', 'mountain', '<eos>']\n",
            "[39/50]\n",
            "Translated sentence['there', 'are', 'many', 'snowboarders', 'on', 'the', 'snowy', 'mountain', '<eos>']\n",
            "[40/50]\n",
            "Translated sentence['there', 'is', 'a', 'elephant', 'that', 'is', 'decorated', 'with', 'many', 'things', '<eos>']\n",
            "[41/50]\n",
            "Translated sentence['there', 'are', 'many', 'snowboarders', 'on', 'the', 'snowy', 'mountain', '<eos>']\n",
            "[42/50]\n",
            "Translated sentence['there', 'is', 'a', 'elephant', 'that', 'is', 'decorated', 'with', 'many', 'things', '<eos>']\n",
            "[43/50]\n",
            "Translated sentence['there', 'is', 'a', 'elephant', 'that', 'is', 'decorated', 'with', 'many', 'things', '<eos>']\n",
            "[44/50]\n",
            "Translated sentence['there', 'is', 'a', 'elephant', 'that', 'is', 'decorated', 'with', 'many', 'things', '<eos>']\n",
            "[45/50]\n",
            "Translated sentence['there', 'is', 'a', 'elephant', 'that', 'is', 'decorated', 'with', 'many', 'things', '<eos>']\n",
            "[46/50]\n",
            "Translated sentence['there', 'is', 'a', 'elephant', 'that', 'is', 'decorated', 'with', 'many', 'things', '<eos>']\n",
            "[47/50]\n",
            "Translated sentence['there', 'is', 'a', 'elephant', 'that', 'is', 'decorated', 'with', 'many', 'things', '<eos>']\n",
            "[48/50]\n",
            "Translated sentence['there', 'is', 'a', 'elephant', 'that', 'is', 'decorated', 'with', 'many', 'things', '<eos>']\n",
            "[49/50]\n",
            "Translated sentence['there', 'is', 'a', 'elephant', 'that', 'is', 'decorated', 'with', 'many', 'things', '<eos>']\n"
          ],
          "name": "stdout"
        }
      ]
    },
    {
      "cell_type": "code",
      "metadata": {
        "id": "BxXHa3UYGQJ4"
      },
      "source": [
        "test = torchtext.datasets.TranslationDataset(path='/content/ms_coco_parallel/test', exts=(source_extention,target_extention), fields=(source, target))\n",
        "test_loader = torchtext.data.BucketIterator(dataset=test, batch_size=32,sort_key=lambda x: data.interleave_keys(len(x.source), len(x.target)))  #source,target"
      ],
      "execution_count": null,
      "outputs": []
    },
    {
      "cell_type": "code",
      "metadata": {
        "id": "MWNKPIBKF0lO"
      },
      "source": [
        "actual_texts = []\n",
        "predicted_texts = []\n",
        "\n",
        "model.eval()\n",
        "for test_text in test:\n",
        "    source_test = test_text.src\n",
        "    target_test = test_text.trg\n",
        "    prediction = translate_sentence(model, source_test, source,target,max_len)\n",
        "    prediction = prediction[:-1]  # don't include end of sentence token\n",
        "\n",
        "    actual_texts.append([target_test])\n",
        "    predicted_texts.append(prediction)\n",
        "# print(bleu_score(predicted_texts, actual_texts))"
      ],
      "execution_count": null,
      "outputs": []
    },
    {
      "cell_type": "code",
      "metadata": {
        "id": "6KrdEKl7_4gZ"
      },
      "source": [
        "predicted_texts"
      ],
      "execution_count": null,
      "outputs": []
    },
    {
      "cell_type": "code",
      "metadata": {
        "colab": {
          "base_uri": "https://localhost:8080/"
        },
        "id": "UVuNCj0SuNOh",
        "outputId": "9190375f-c406-444e-e96a-3f21ebf80d71"
      },
      "source": [
        "count=0\n",
        "model.eval()\n",
        "for test_text in test:\n",
        "    if count ==10:\n",
        "        break\n",
        "    count+=1\n",
        "    source_test = test_text.src\n",
        "    target_test = test_text.trg\n",
        "    prediction = translate_sentence(model, source_test, source,target,max_len)\n",
        "    prediction = prediction[:-1]  # don't include end of sentence token\n",
        "    print(source_test,prediction)"
      ],
      "execution_count": null,
      "outputs": [
        {
          "output_type": "stream",
          "text": [
            "['ein', 'mann', 'führt', 'auf', 'einen', 'skateboard', 'einen', 'trick', 'vor', '.'] ['a', 'man', 'riding', 'a', 'motorcycle', 'down', 'a', 'street', 'next', 'to', 'people', '.']\n",
            "['ein', 'hund', 'auf', 'einer', 'wiese', 'mit', 'einem', 'frisbee', 'im', 'maul', '.'] ['a', 'dog', 'is', 'barking', 'on', 'the', 'sheep', 'grazing', 'in', 'the', 'field', '.']\n",
            "['eine', 'tasche', 'steht', 'neben', 'anderem', 'gepäck', 'auf', 'dem', 'boden', '.'] ['a', 'giraffe', 'walks', 'on', 'grass', 'looking', 'for', 'something', 'to', 'eat', '.']\n",
            "['eine', 'gruppe', 'von', 'leuten', 'steht', 'neben', 'einer', 'maschine', '.'] ['a', 'group', 'of', 'people', 'holding', 'umbrellas', 'near', 'a', 'wet', 'street', '.']\n",
            "['ein', 'eleganter', 'tisch', 'mit', 'vielen', 'blauen', 'vasen', '.'] ['a', 'wooden', 'cutting', 'board', 'with', 'lots', 'of', 'carrots', 'on', 'top', 'of', 'it', '.']\n",
            "['eine', 'einzelne', 'giraffe', 'steht', 'zwischen', 'trockenen', 'büschen', '.'] ['a', 'little', 'kid', 'is', 'standing', 'in', 'a', 'room']\n",
            "['eine', 'hydrant', 'und', 'ein', 'hund', 'im', 'schnee', '.'] ['a', 'man', 'and', 'a', 'dog', 'running', 'down', 'a', 'beach', '.']\n",
            "['ein', 'mann', 'liegt', 'neben', 'einem', 'großen', 'hund', 'auf', 'einem', 'bett', '.'] ['a', 'man', 'sitting', 'on', 'a', 'closed', 'toilet', 'holding', 'a', 'record', 'album', 'while', 'a', 'dog', 'looks', 'at', 'him', '.']\n",
            "['eine', 'nahaufnahme', 'eines', 'tabletts', 'mit', 'cupcakes', '.'] ['a', 'large', 'wooden', 'ship', 'sailing', 'across', 'a', 'lake', '.']\n",
            "['eine', 'vase', 'mit', 'verschiedenfarbigem', 'glas', 'und', 'karaffen', '.'] ['a', 'wooden', 'table', 'topped', 'with', 'plates', 'and', 'containers', 'of', 'food', '.']\n"
          ],
          "name": "stdout"
        }
      ]
    }
  ]
}