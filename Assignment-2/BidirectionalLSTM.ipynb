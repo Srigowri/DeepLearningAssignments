{
  "nbformat": 4,
  "nbformat_minor": 0,
  "metadata": {
    "accelerator": "GPU",
    "colab": {
      "name": "working_Q1.ipynb",
      "provenance": [],
      "collapsed_sections": []
    },
    "kernelspec": {
      "display_name": "Python 3",
      "name": "python3"
    }
  },
  "cells": [
    {
      "cell_type": "markdown",
      "metadata": {
        "id": "6w92lJvYKpTz"
      },
      "source": [
        "# **Note: I am using garbage collector and deleting huge lists to avoid crashing of the notebook due to insufficient RAM**"
      ]
    },
    {
      "cell_type": "code",
      "metadata": {
        "id": "m3lCrtvEHb7j"
      },
      "source": [
        "import re\n",
        "import os\n",
        "import gc\n",
        "import math\n",
        "import time\n",
        "import pickle\n",
        "import pandas as pd\n",
        "from tabulate import tabulate\n",
        "import numpy as np\n",
        "import matplotlib.pyplot as plt"
      ],
      "execution_count": null,
      "outputs": []
    },
    {
      "cell_type": "code",
      "metadata": {
        "id": "cPXeIl_zBz6Q"
      },
      "source": [
        "import torch\n",
        "import torch.nn as nn"
      ],
      "execution_count": null,
      "outputs": []
    },
    {
      "cell_type": "markdown",
      "metadata": {
        "id": "UTAjMV2DvaDk"
      },
      "source": [
        "# **Evaluation**"
      ]
    },
    {
      "cell_type": "markdown",
      "metadata": {
        "id": "vI7fLSAEy9xD"
      },
      "source": [
        "**ROC Curve- Receiver Operating Characteristic**"
      ]
    },
    {
      "cell_type": "code",
      "metadata": {
        "id": "M7NKVF6tvabt"
      },
      "source": [
        "def roc_curve(true,pred):\n",
        "    \n",
        "\n",
        "    thresholds = np.array(list(range(0,100,10)))/100\n",
        "    roc = []\n",
        "    for threshold in thresholds:\n",
        "        true_positive,false_negative,true_negative,false_positive = 0,0,0,0\n",
        "        for actual,predicted  in zip(true,pred):\n",
        "            # print(actual,predicted,threshold)\n",
        "            if predicted > threshold:\n",
        "                class_ = 1\n",
        "            else:\n",
        "                class_ = 0\n",
        "\n",
        "            if actual == 1 and predicted == 1:\n",
        "                true_positive +=1\n",
        "            elif actual == 1 and predicted ==0:\n",
        "                false_negative +=1\n",
        "            elif actual == 0 and predicted == 0:\n",
        "                true_negative +=1\n",
        "            else:\n",
        "                false_positive+=1\n",
        "\n",
        "        print(true_negative,true_positive,false_positive,false_negative)\n",
        "        try:\n",
        "            true_positive_rate = true_positive/(false_negative + true_positive)\n",
        "            false_positve_rate = false_positive/(false_negative + true_positive)\n",
        "            precision = true_positive / (true_positive + false_positive)\n",
        "            roc.append([threshold,true_positive_rate,false_positve_rate,precision])\n",
        "        except Exception as e:\n",
        "            print(str(e),roc)\n",
        "            pass\n",
        "            \n",
        "        \n",
        "    \n",
        "    return roc"
      ],
      "execution_count": null,
      "outputs": []
    },
    {
      "cell_type": "markdown",
      "metadata": {
        "id": "qD8hUrGmzIOD"
      },
      "source": [
        "**AUC - Area Under the Curve**"
      ]
    },
    {
      "cell_type": "code",
      "metadata": {
        "id": "kpQr2R-GzdlM"
      },
      "source": [
        "def auc(roc):\n",
        "    auc_val= np.trapz(true_positive_rate,false_positve_rate)\n",
        "    return  (round(abs(auc_val)),2)\n",
        "    "
      ],
      "execution_count": null,
      "outputs": []
    },
    {
      "cell_type": "code",
      "metadata": {
        "id": "7yt1qKYXAX-b"
      },
      "source": [
        "# model = torch.load()"
      ],
      "execution_count": null,
      "outputs": []
    },
    {
      "cell_type": "code",
      "metadata": {
        "colab": {
          "base_uri": "https://localhost:8080/"
        },
        "id": "hy6WTNt29a1u",
        "outputId": "0524cf89-b997-4516-e142-c63f07570b3c"
      },
      "source": [
        "device = torch.device(\"cuda\" if torch.cuda.is_available() else \"cpu\")\n",
        "print(device)"
      ],
      "execution_count": null,
      "outputs": [
        {
          "output_type": "stream",
          "text": [
            "cuda\n"
          ],
          "name": "stdout"
        }
      ]
    },
    {
      "cell_type": "markdown",
      "metadata": {
        "id": "k-eFr93AK0mj"
      },
      "source": [
        "# **Input data: Review Data** \n",
        "\n",
        "I have placed a pickle file of the review_data.csv in my github\n",
        "\n",
        "You can even upload the csv file by browing you file system and uploading it\n"
      ]
    },
    {
      "cell_type": "code",
      "metadata": {
        "colab": {
          "base_uri": "https://localhost:8080/"
        },
        "id": "VIqys8V-y23S",
        "outputId": "0c40c2a0-32ab-49de-bba8-48641109cc45"
      },
      "source": [
        "\n",
        "if os.path.exists('/content/review_data.csv'):\n",
        "    #if already uploaded read from here\n",
        "    with open('/content/review_data.csv', 'r') as f:\n",
        "        sentiment_data = pd.read_csv(f,header=0)\n",
        "else:\n",
        "\n",
        "    try:\n",
        "        sentiment_data = pd.read_parquet(\"https://github.com/Srigowri/AssignmentDatasets/blob/master/review_parquet.gzip?raw=true\")\n",
        "    except:\n",
        "        from google.colab import files\n",
        "        import io\n",
        "        #upload if not present\n",
        "        print(\"File not present,please upload by selecting the file\")\n",
        "        from google.colab import files\n",
        "        sentiment_file = files.upload()\n",
        "        print(sentiment_file.keys())\n",
        "        sentiment_data = pd.read_csv(io.BytesIO(sentiment_file['review_data.csv']))\n",
        "print(\"Number of reviews in the csv\",len(sentiment_data))\n",
        "print(\"Fields in the CSV data\",sentiment_data.columns)"
      ],
      "execution_count": null,
      "outputs": [
        {
          "output_type": "stream",
          "text": [
            "Number of reviews in the csv 50000\n",
            "Fields in the CSV data Index(['final_review', 'sentiment'], dtype='object')\n"
          ],
          "name": "stdout"
        }
      ]
    },
    {
      "cell_type": "code",
      "metadata": {
        "colab": {
          "base_uri": "https://localhost:8080/"
        },
        "id": "swXAsK-2MkUp",
        "outputId": "fb04d7d1-9b47-4144-8935-28da1a5e16b0"
      },
      "source": [
        "print(tabulate(sentiment_data.head(), headers=\"firstrow\", tablefmt=\"grid\"))"
      ],
      "execution_count": null,
      "outputs": [
        {
          "output_type": "stream",
          "text": [
            "+-----+---------------------------------------------------------------------------------------------------------------------------------------------------------------------------------------------------------------------------------------------------------------------------------------------------------------------------------------------------------------------------------------------------------------------------------------------------------------------------------------------------------------------------------------------------------------------------------------------------------------------------------------------------------------------------------------------------------------------------------------------------------------------------------------------------------------------------------------------------------------------------------------------------------------------------------------------------------------------------------------------------------------------------------------------------+-----+\n",
            "|   0 | teenager martha moxley maggie grace moves high class area belle greenwich connecticut mischief night eve halloween murdered backyard house murder remained unsolved twenty two years later writer mark fuhrman christopher meloni former la detective fallen disgrace perjury j simpson trial moved idaho decides investigate case partner stephen weeks andrew mitchell purpose writing book locals squirm welcome support retired detective steve carroll robert forster charge investigation discover criminal net power money cover murder murder greenwich good tv movie true story murder fifteen years old girl committed wealthy teenager whose mother kennedy powerful rich family used influence cover murder twenty years however snoopy detective convicted perjurer disgrace able disclose hideous crime committed screenplay shows investigation mark last days martha parallel lack emotion dramatization vote seven title brazil available                                                                                        |   1 |\n",
            "+=====+===================================================================================================================================================================================================================================================================================================================================================================================================================================================================================================================================================================================================================================================================================================================================================================================================================================================================================================================================================================================================================================================+=====+\n",
            "|   1 | ok really like kris kristofferson usual easy going delivery lines movies age helped soft spoken low energy style steal scene effortlessly disappearance misstep holy moly bad movie must give kudos cinematography actors including kris trying darndest make sense goofy confusing story none made sense kris probably understand either going motions hoping someone would come tell care everyone movie love project nonsense seen low budget movies plot goodness sake none zilcho nada zippo empty reason complete waste good talent scenery celluloid rented piece garbage buck want money back want hours back invested grade f waste time watch movie waste minute valuable time passing room playing even open case holding dvd believe thank advice                                                                                                                                                                                                                                                                                     |   0 |\n",
            "+-----+---------------------------------------------------------------------------------------------------------------------------------------------------------------------------------------------------------------------------------------------------------------------------------------------------------------------------------------------------------------------------------------------------------------------------------------------------------------------------------------------------------------------------------------------------------------------------------------------------------------------------------------------------------------------------------------------------------------------------------------------------------------------------------------------------------------------------------------------------------------------------------------------------------------------------------------------------------------------------------------------------------------------------------------------------+-----+\n",
            "|   2 | spoiler read think watching movie although would waste time way plot predictable make difference read anyway wondering whether see coyote ugly worth either money ticket vhs dvd typical chick feel good flick one could say plot shallow ridiculous uncritical version american dream young good looking girl small town becoming big success new york desperate attempts giving movie depth fail tragic accident father difficulties violet relationship boyfriend mcnally director tries arouse audience pity sadness put chance succeed attempt due bad script shallow acting especially piper perabo completely fails convincing one jersey fear singing front audience good quite funny thing coyote ugly john goodman represents small ray hope movie astonished jerry bruckheimer produced movie first gone seconds happened great movies like rock con air true bruckheimer stuff looking superficial movie good looking women relaxed evening better go see charlie angels much funny entertaining self ironic instead flick two thumbs |   0 |\n",
            "+-----+---------------------------------------------------------------------------------------------------------------------------------------------------------------------------------------------------------------------------------------------------------------------------------------------------------------------------------------------------------------------------------------------------------------------------------------------------------------------------------------------------------------------------------------------------------------------------------------------------------------------------------------------------------------------------------------------------------------------------------------------------------------------------------------------------------------------------------------------------------------------------------------------------------------------------------------------------------------------------------------------------------------------------------------------------+-----+\n",
            "|   3 | hi people seen wonderful movie im sure thet would liked much love songs seen show sing along though part show singing dancing dancing singing song one time fave musical song strutters end mirror oh watch one                                                                                                                                                                                                                                                                                                                                                                                                                                                                                                                                                                                                                                                                                                                                                                                                                                   |   1 |\n",
            "+-----+---------------------------------------------------------------------------------------------------------------------------------------------------------------------------------------------------------------------------------------------------------------------------------------------------------------------------------------------------------------------------------------------------------------------------------------------------------------------------------------------------------------------------------------------------------------------------------------------------------------------------------------------------------------------------------------------------------------------------------------------------------------------------------------------------------------------------------------------------------------------------------------------------------------------------------------------------------------------------------------------------------------------------------------------------+-----+\n",
            "|   4 | recently bought dvd forgetting much hated movie version chorus line every change director attenborough made story failed making director cassie relationship prominent entire ensemble premise musical sails window musical numbers sped rushed show hit song gets entire meaning shattered given cassie character overall staging self conscious reason give great numbers still able enjoyed despite film attempt squeeze every bit joy spontaneity                                                                                                                                                                                                                                                                                                                                                                                                                                                                                                                                                                                             |   0 |\n",
            "+-----+---------------------------------------------------------------------------------------------------------------------------------------------------------------------------------------------------------------------------------------------------------------------------------------------------------------------------------------------------------------------------------------------------------------------------------------------------------------------------------------------------------------------------------------------------------------------------------------------------------------------------------------------------------------------------------------------------------------------------------------------------------------------------------------------------------------------------------------------------------------------------------------------------------------------------------------------------------------------------------------------------------------------------------------------------+-----+\n"
          ],
          "name": "stdout"
        }
      ]
    },
    {
      "cell_type": "markdown",
      "metadata": {
        "id": "6XCu67SCFnne"
      },
      "source": [
        "# **Preprocessing the textual information**\n",
        "\n",
        "\n",
        "\n",
        "Convert to lower case, remove any character other than alphabet and replace the +s with spaces"
      ]
    },
    {
      "cell_type": "code",
      "metadata": {
        "id": "pi5kCptAFbok"
      },
      "source": [
        "sentiment_data[\"final_review\"] =  sentiment_data[\"final_review\"].apply(lambda x:x.lower())\n",
        "sentiment_data[\"final_review\"] =  sentiment_data[\"final_review\"].apply(lambda x:re.sub(r\"[^a-z]\",\" \",x))\n",
        "sentiment_data[\"final_review\"] =  sentiment_data[\"final_review\"].apply(lambda x:re.sub(r\" +\",\" \",x))"
      ],
      "execution_count": null,
      "outputs": []
    },
    {
      "cell_type": "code",
      "metadata": {
        "id": "iP_hk4_BLszT"
      },
      "source": [
        "def get_reviews(sentiment_data):\n",
        "    \"\"\"\n",
        "    Input: sentiment_data- pandas a dataframe with final_review and sentiment labels\n",
        "    Output: Split each review sentence to words and return the list of reviews and labels\n",
        "    \"\"\"\n",
        "    reviews = []\n",
        "    labels = []\n",
        "    for index in range(len(sentiment_data)):\n",
        "        review = sentiment_data[\"final_review\"][index].split()\n",
        "        reviews.append(review)\n",
        "        labels.append(sentiment_data[\"sentiment\"][index])\n",
        "    return reviews,labels\n",
        "\n",
        "reviews, labels = get_reviews(sentiment_data)"
      ],
      "execution_count": null,
      "outputs": []
    },
    {
      "cell_type": "code",
      "metadata": {
        "id": "4plFPZ-a8jB5"
      },
      "source": [
        "del sentiment_data"
      ],
      "execution_count": null,
      "outputs": []
    },
    {
      "cell_type": "markdown",
      "metadata": {
        "id": "hpuiTpCfPUK5"
      },
      "source": [
        "The neural networks best work with numbers & not with words so we shall translate the textual data into numerical representation\n",
        "\n"
      ]
    },
    {
      "cell_type": "markdown",
      "metadata": {
        "id": "9SFEiRR0LGoa"
      },
      "source": [
        "# **GLOVE Embeddings**\n",
        "\n",
        "For this task, I am using a predefined word embeddings called Global vectors.\n",
        "References: https://nlp.stanford.edu/projects/glove/\n",
        "\n",
        "[Word embedding are mappings fOr each word to a vector of features]\n"
      ]
    },
    {
      "cell_type": "code",
      "metadata": {
        "colab": {
          "base_uri": "https://localhost:8080/"
        },
        "id": "qmGHjTlKPsxU",
        "outputId": "9cd66f4f-1282-4112-a5a6-602e14a41805"
      },
      "source": [
        "import zipfile\n",
        "import urllib.request as request\n",
        "\n",
        "\n",
        "url = \"https://nlp.stanford.edu/data/glove.6B.zip\"\n",
        "\n",
        "\n",
        "#if already uploaded read from here\n",
        "if not os.path.exists('glove.6B.zip'):\n",
        "    request.urlretrieve(url,\"glove.6B.zip\")\n",
        "\n",
        "embed_size=50\n",
        "\n",
        "if not os.path.exists(\"glove.6B.{}d.txt\".format(embed_size)):\n",
        "    with zipfile.ZipFile(\"glove.6B.zip\",\"r\") as f:\n",
        "        f.extractall()\n",
        "\n",
        "! ls"
      ],
      "execution_count": null,
      "outputs": [
        {
          "output_type": "stream",
          "text": [
            "glove.6B.100d.txt  glove.6B.300d.txt  glove.6B.zip\n",
            "glove.6B.200d.txt  glove.6B.50d.txt   sample_data\n"
          ],
          "name": "stdout"
        }
      ]
    },
    {
      "cell_type": "markdown",
      "metadata": {
        "id": "R_SDtZ9vLNWB"
      },
      "source": [
        "**Review Words to Numbers**\n",
        "\n",
        "A line in a glove file is as follows\n",
        "\n",
        "**< word >  < vector of values >**"
      ]
    },
    {
      "cell_type": "code",
      "metadata": {
        "colab": {
          "base_uri": "https://localhost:8080/"
        },
        "id": "3BMAwwnJXRzJ",
        "outputId": "85d6158b-b63c-44b3-a143-a483c64f5816"
      },
      "source": [
        "#using defaultdict will let you specify the default value of an unknown hash in this case, any unknown word\n",
        "# word_to_int[\"dsfasdf\"] will be at index 0 and the embedding at index 0 is all 0\n",
        "def get_glove_embeddings(embed_size=50):\n",
        "    \"\"\"\n",
        "    The embedding file has one line per word\n",
        "    Each line has a word and a list of vectors of size embed_size\n",
        "\n",
        "    Output: A dictionary which maps a word to an index and \n",
        "            another dictionary that will map the index to a list of vectors\n",
        "            Eg:\n",
        "            \"cat\" -> 2\n",
        "            \"2\" -> [1.0,2.3,4.0,.....]\n",
        "    \"\"\"\n",
        "    import numpy as np\n",
        "    from collections import defaultdict\n",
        "\n",
        "    filename = \"glove.6B.{}d.txt\".format(embed_size)\n",
        "    print(\"Getting embeddings from\", filename)\n",
        "\n",
        "    with open(filename,\"r\") as f:\n",
        "        word_to_number = defaultdict(int)\n",
        "        number_to_vector =  defaultdict(lambda: np.zeros([embed_size]))\n",
        "        #starting the index at 1, as 0 will be used for any unknown words in default dict\n",
        "        index = 1\n",
        "        #read every the glove file line by line\n",
        "        for embedding_line in f:\n",
        "            line = embedding_line.split()\n",
        "            word = str(line[0])                      #the first word in the line is a word\n",
        "            vector = np.array(line[1:],np.float32)   #the rest are values\n",
        "            word_to_number[word] = index             #map word to its index\n",
        "            number_to_vector[index] = vector         #map index to vectors\n",
        "            index+=1\n",
        "    return word_to_number,number_to_vector\n",
        "\n",
        "word_to_number, number_to_vector = get_glove_embeddings()\n",
        "print(\"Total number of words\",len(word_to_number))"
      ],
      "execution_count": null,
      "outputs": [
        {
          "output_type": "stream",
          "text": [
            "Getting embeddings from glove.6B.50d.txt\n",
            "Total number of words 400000\n"
          ],
          "name": "stdout"
        }
      ]
    },
    {
      "cell_type": "code",
      "metadata": {
        "colab": {
          "base_uri": "https://localhost:8080/"
        },
        "id": "OVsTiQcecHpm",
        "outputId": "e1e1ab86-70e6-49c8-b971-77df04590958"
      },
      "source": [
        "def get_review_to_num(reviews):\n",
        "    \"\"\"\n",
        "    Input: The given data set whose sentences are split into words\n",
        "    Map every word in the sentence to an index\n",
        "    \"\"\"\n",
        "    reviews_to_num_list = []\n",
        "    for review in reviews:\n",
        "        review_to_num = [word_to_number[word] for word in review]\n",
        "        reviews_to_num_list.append(review_to_num)\n",
        "    return reviews_to_num_list\n",
        "\n",
        "def get_review_to_vec(reviews_to_num_list):\n",
        "    \"\"\"\n",
        "    Input: Review whose words in the sentences are mapped to index\n",
        "    Map every index of the sentence to a vector of values\n",
        "    \"\"\"\n",
        "    reviews_to_vector_list = []\n",
        "    for review  in reviews_to_num_list:\n",
        "        review_to_vector = [number_to_vector[num] for num in review]\n",
        "        reviews_to_vector_list.append(review_to_vector)\n",
        "    return reviews_to_vector_list\n",
        "\n",
        "reviews_to_num_list = get_review_to_num(reviews)\n",
        "\n",
        "print(\"Sentence to words\",reviews[0])\n",
        "print(\"Words to index\",reviews_to_num_list[0])"
      ],
      "execution_count": null,
      "outputs": [
        {
          "output_type": "stream",
          "text": [
            "Sentence to words ['teenager', 'martha', 'moxley', 'maggie', 'grace', 'moves', 'high', 'class', 'area', 'belle', 'greenwich', 'connecticut', 'mischief', 'night', 'eve', 'halloween', 'murdered', 'backyard', 'house', 'murder', 'remained', 'unsolved', 'twenty', 'two', 'years', 'later', 'writer', 'mark', 'fuhrman', 'christopher', 'meloni', 'former', 'la', 'detective', 'fallen', 'disgrace', 'perjury', 'j', 'simpson', 'trial', 'moved', 'idaho', 'decides', 'investigate', 'case', 'partner', 'stephen', 'weeks', 'andrew', 'mitchell', 'purpose', 'writing', 'book', 'locals', 'squirm', 'welcome', 'support', 'retired', 'detective', 'steve', 'carroll', 'robert', 'forster', 'charge', 'investigation', 'discover', 'criminal', 'net', 'power', 'money', 'cover', 'murder', 'murder', 'greenwich', 'good', 'tv', 'movie', 'true', 'story', 'murder', 'fifteen', 'years', 'old', 'girl', 'committed', 'wealthy', 'teenager', 'whose', 'mother', 'kennedy', 'powerful', 'rich', 'family', 'used', 'influence', 'cover', 'murder', 'twenty', 'years', 'however', 'snoopy', 'detective', 'convicted', 'perjurer', 'disgrace', 'able', 'disclose', 'hideous', 'crime', 'committed', 'screenplay', 'shows', 'investigation', 'mark', 'last', 'days', 'martha', 'parallel', 'lack', 'emotion', 'dramatization', 'vote', 'seven', 'title', 'brazil', 'available']\n",
            "Words to index [7187, 7456, 53221, 15008, 5050, 2479, 153, 906, 238, 11866, 11371, 3806, 23410, 365, 4205, 12000, 5927, 13244, 167, 1476, 1044, 19470, 4450, 56, 83, 169, 1542, 800, 20010, 3258, 114543, 158, 1048, 6635, 3285, 17590, 15603, 6892, 3702, 802, 555, 7858, 6039, 3975, 306, 1916, 2663, 518, 2632, 4303, 2801, 1650, 540, 7183, 56196, 3144, 281, 1661, 6635, 1927, 7715, 894, 26327, 1091, 973, 6315, 1512, 1051, 269, 309, 1334, 1476, 1476, 11371, 220, 817, 1006, 1447, 524, 1476, 7605, 83, 168, 1750, 1806, 4552, 7187, 508, 809, 2298, 1529, 1728, 214, 181, 1730, 1334, 1476, 4450, 83, 213, 44369, 6635, 2136, 180370, 17590, 668, 6973, 31909, 1341, 1806, 9046, 971, 973, 800, 77, 250, 7456, 5380, 1493, 8493, 61026, 539, 439, 699, 1343, 780]\n"
          ],
          "name": "stdout"
        }
      ]
    },
    {
      "cell_type": "markdown",
      "metadata": {
        "id": "P8BRc98ogZvB"
      },
      "source": [
        "Now that we have every word converted to vector\n",
        "What should be the sizes of each input?\n",
        "\n",
        "From the below plots it can be seen that the reviews have varying input sizes\n",
        "The median is less than 200\n",
        "\n",
        "I am fixing the input size to be 500 based on the below box plot"
      ]
    },
    {
      "cell_type": "code",
      "metadata": {
        "colab": {
          "base_uri": "https://localhost:8080/",
          "height": 390
        },
        "id": "FRabRL7FgaBg",
        "outputId": "01402bf9-d821-45fc-882c-d02a266d7a2b"
      },
      "source": [
        "len_per_review = [len(review) for review in reviews]\n",
        "\n",
        "fig,axes =  plt.subplots(1,2,figsize=(16,6))\n",
        "axes[0].hist(len_per_review,bins = 200)\n",
        "axes[0].set_title(\"Distribution of word lengths\")\n",
        "axes[1].boxplot(len_per_review)\n",
        "axes[1].set_title(\"Box plot of review lengths\")\n",
        "plt.show()"
      ],
      "execution_count": null,
      "outputs": [
        {
          "output_type": "display_data",
          "data": {
            "image/png": "[encoded data removed]",
            "text/plain": [
              "<Figure size 1152x432 with 2 Axes>"
            ]
          },
          "metadata": {
            "tags": []
          }
        }
      ]
    },
    {
      "cell_type": "code",
      "metadata": {
        "id": "I7h_8-YGFRKh"
      },
      "source": [
        "del len_per_review\n",
        "for val in [50,100,200,300]:\n",
        "    os.remove(\"glove.6B.{}d.txt\".format(val))"
      ],
      "execution_count": null,
      "outputs": []
    },
    {
      "cell_type": "markdown",
      "metadata": {
        "id": "IRuxifxsLZD6"
      },
      "source": [
        "# **Max len of a sentence**\n",
        "\n",
        "Based on the above box blot, I am selecting the maximum length of the sentence to be 500 words\n",
        "Any thing greater will be truncated,\n",
        "anything lesser will have the default index 0"
      ]
    },
    {
      "cell_type": "code",
      "metadata": {
        "id": "sRKu_w4bj9zV"
      },
      "source": [
        "def trucate_or_pad(reviews_to_num_list,max_length = 500):\n",
        "    for index,review in enumerate(reviews_to_num_list):\n",
        "        paddings = [0]*max_length\n",
        "        end = min(max_length,len(review))\n",
        "        paddings[:end] = review[:end]\n",
        "        reviews_to_num_list[index] = paddings\n",
        "    return reviews_to_num_list\n",
        "\n",
        "max_length = 500\n",
        "reviews_to_num_list = trucate_or_pad(reviews_to_num_list)\n",
        "reviews_to_vector_list = get_review_to_vec(reviews_to_num_list)"
      ],
      "execution_count": null,
      "outputs": []
    },
    {
      "cell_type": "code",
      "metadata": {
        "id": "QVHdloN40GEA"
      },
      "source": [
        "# import pickle\n",
        "\n",
        "# with open(\"reviews_to_vector.pkl\",\"w\") as f:\n",
        "#     pickle.dump(str(reviews_to_vector_list),f)\n",
        "\n",
        "\n",
        "# with open(\"labels.pkl\",\"w\") as f:\n",
        "#     pickle.dump(str(labels),f)"
      ],
      "execution_count": null,
      "outputs": []
    },
    {
      "cell_type": "code",
      "metadata": {
        "colab": {
          "base_uri": "https://localhost:8080/"
        },
        "id": "kDGzkBPF7Iz9",
        "outputId": "e7efb2c0-99dd-40db-e8e2-7bf591465514"
      },
      "source": [
        "gc.collect()"
      ],
      "execution_count": null,
      "outputs": [
        {
          "output_type": "execute_result",
          "data": {
            "text/plain": [
              "0"
            ]
          },
          "metadata": {
            "tags": []
          },
          "execution_count": 19
        }
      ]
    },
    {
      "cell_type": "markdown",
      "metadata": {
        "id": "am-WEc3SLdl5"
      },
      "source": [
        "# **Splitting data 80-10-10**"
      ]
    },
    {
      "cell_type": "code",
      "metadata": {
        "colab": {
          "base_uri": "https://localhost:8080/"
        },
        "id": "ImP01XPdr-6l",
        "outputId": "64a72938-790a-4879-9238-59f6059898b0"
      },
      "source": [
        "from sklearn.model_selection  import train_test_split\n",
        "trainx,testx,trainy,testy = train_test_split(reviews_to_vector_list,labels,test_size=0.1,shuffle=True)\n",
        "trainx,valx,trainy,valy = train_test_split(trainx,trainy,test_size=len(testx)/len(trainx),shuffle=True)\n",
        "print(\"Length of trainx\",len(trainx))\n",
        "print(\"Length of testx\",len(testx))\n",
        "print(\"Length of valx\",len(valx))"
      ],
      "execution_count": null,
      "outputs": [
        {
          "output_type": "stream",
          "text": [
            "Length of trainx 40000\n",
            "Length of testx 5000\n",
            "Length of valx 5000\n"
          ],
          "name": "stdout"
        }
      ]
    },
    {
      "cell_type": "code",
      "metadata": {
        "colab": {
          "base_uri": "https://localhost:8080/"
        },
        "id": "SwT47CVP8tZq",
        "outputId": "da31b3d7-610b-4c77-8bb8-39266f94e55f"
      },
      "source": [
        "del labels\n",
        "del reviews\n",
        "del reviews_to_vector_list\n",
        "del reviews_to_num_list\n",
        "del word_to_number\n",
        "del number_to_vector\n",
        "gc.collect()"
      ],
      "execution_count": null,
      "outputs": [
        {
          "output_type": "execute_result",
          "data": {
            "text/plain": [
              "0"
            ]
          },
          "metadata": {
            "tags": []
          },
          "execution_count": 21
        }
      ]
    },
    {
      "cell_type": "markdown",
      "metadata": {
        "id": "OFLXR3QSLjRg"
      },
      "source": [
        "**Iterable batches**"
      ]
    },
    {
      "cell_type": "code",
      "metadata": {
        "colab": {
          "base_uri": "https://localhost:8080/"
        },
        "id": "fQXzU08J_5WD",
        "outputId": "ac8a410a-d0f7-4513-b5cb-5104642e046a"
      },
      "source": [
        "batchSize = 16\n",
        "\n",
        "valx = torch.tensor(valx,dtype=torch.float32)\n",
        "valy = torch.tensor(valy,dtype=torch.float32)\n",
        "valLoader = torch.utils.data.DataLoader(dataset=torch.utils.data.TensorDataset(valx,valy),\n",
        "                                           batch_size=batchSize)\n",
        "del valx\n",
        "del valy\n",
        "gc.collect()"
      ],
      "execution_count": null,
      "outputs": [
        {
          "output_type": "execute_result",
          "data": {
            "text/plain": [
              "0"
            ]
          },
          "metadata": {
            "tags": []
          },
          "execution_count": 22
        }
      ]
    },
    {
      "cell_type": "code",
      "metadata": {
        "colab": {
          "base_uri": "https://localhost:8080/"
        },
        "id": "bOL0o3wvx8v2",
        "outputId": "174c4f64-0e41-4e10-d5c2-ee7711136d63"
      },
      "source": [
        "batchSize = 16\n",
        "\n",
        "trainx = torch.tensor(trainx,dtype=torch.float32)\n",
        "trainy= torch.tensor(trainy,dtype=torch.float32)\n",
        "\n",
        "\n",
        "#using torch's utility function to load data in batches\n",
        "trainLoader = torch.utils.data.DataLoader(dataset=torch.utils.data.TensorDataset(trainx,trainy),\n",
        "                                           batch_size=batchSize,                                     \n",
        "                                         )\n",
        "\n",
        "del trainx\n",
        "del trainy\n",
        "gc.collect()\n",
        "print(\"Number of training examples   = \",len(trainLoader)*batchSize)"
      ],
      "execution_count": null,
      "outputs": [
        {
          "output_type": "stream",
          "text": [
            "Number of training examples   =  40000\n"
          ],
          "name": "stdout"
        }
      ]
    },
    {
      "cell_type": "code",
      "metadata": {
        "colab": {
          "base_uri": "https://localhost:8080/"
        },
        "id": "XfMx0xLfD89v",
        "outputId": "13bba1e7-4dc5-4be6-bf8d-28defcf111b2"
      },
      "source": [
        "! pip3 install guppy3\n",
        "from guppy import hpy\n",
        "\n",
        "h = hpy()\n",
        "print(h.heap() )\n"
      ],
      "execution_count": null,
      "outputs": [
        {
          "output_type": "stream",
          "text": [
            "Collecting guppy3\n",
            "\u001b[?25l  Downloading https://files.pythonhosted.org/packages/10/8f/ae8ddf9a61491d64c4e16871225b30bf2524d0e54d2d8354852e6b066947/guppy3-3.1.0-cp36-cp36m-manylinux2010_x86_64.whl (605kB)\n",
            "\r\u001b[K     |▌                               | 10kB 25.1MB/s eta 0:00:01\r\u001b[K     |█                               | 20kB 13.4MB/s eta 0:00:01\r\u001b[K     |█▋                              | 30kB 12.3MB/s eta 0:00:01\r\u001b[K     |██▏                             | 40kB 11.5MB/s eta 0:00:01\r\u001b[K     |██▊                             | 51kB 7.7MB/s eta 0:00:01\r\u001b[K     |███▎                            | 61kB 8.4MB/s eta 0:00:01\r\u001b[K     |███▉                            | 71kB 8.3MB/s eta 0:00:01\r\u001b[K     |████▎                           | 81kB 8.6MB/s eta 0:00:01\r\u001b[K     |████▉                           | 92kB 8.7MB/s eta 0:00:01\r\u001b[K     |█████▍                          | 102kB 7.5MB/s eta 0:00:01\r\u001b[K     |██████                          | 112kB 7.5MB/s eta 0:00:01\r\u001b[K     |██████▌                         | 122kB 7.5MB/s eta 0:00:01\r\u001b[K     |███████                         | 133kB 7.5MB/s eta 0:00:01\r\u001b[K     |███████▋                        | 143kB 7.5MB/s eta 0:00:01\r\u001b[K     |████████▏                       | 153kB 7.5MB/s eta 0:00:01\r\u001b[K     |████████▋                       | 163kB 7.5MB/s eta 0:00:01\r\u001b[K     |█████████▏                      | 174kB 7.5MB/s eta 0:00:01\r\u001b[K     |█████████▊                      | 184kB 7.5MB/s eta 0:00:01\r\u001b[K     |██████████▎                     | 194kB 7.5MB/s eta 0:00:01\r\u001b[K     |██████████▉                     | 204kB 7.5MB/s eta 0:00:01\r\u001b[K     |███████████▍                    | 215kB 7.5MB/s eta 0:00:01\r\u001b[K     |████████████                    | 225kB 7.5MB/s eta 0:00:01\r\u001b[K     |████████████▌                   | 235kB 7.5MB/s eta 0:00:01\r\u001b[K     |█████████████                   | 245kB 7.5MB/s eta 0:00:01\r\u001b[K     |█████████████▌                  | 256kB 7.5MB/s eta 0:00:01\r\u001b[K     |██████████████                  | 266kB 7.5MB/s eta 0:00:01\r\u001b[K     |██████████████▋                 | 276kB 7.5MB/s eta 0:00:01\r\u001b[K     |███████████████▏                | 286kB 7.5MB/s eta 0:00:01\r\u001b[K     |███████████████▊                | 296kB 7.5MB/s eta 0:00:01\r\u001b[K     |████████████████▎               | 307kB 7.5MB/s eta 0:00:01\r\u001b[K     |████████████████▉               | 317kB 7.5MB/s eta 0:00:01\r\u001b[K     |█████████████████▎              | 327kB 7.5MB/s eta 0:00:01\r\u001b[K     |█████████████████▉              | 337kB 7.5MB/s eta 0:00:01\r\u001b[K     |██████████████████▍             | 348kB 7.5MB/s eta 0:00:01\r\u001b[K     |███████████████████             | 358kB 7.5MB/s eta 0:00:01\r\u001b[K     |███████████████████▌            | 368kB 7.5MB/s eta 0:00:01\r\u001b[K     |████████████████████            | 378kB 7.5MB/s eta 0:00:01\r\u001b[K     |████████████████████▋           | 389kB 7.5MB/s eta 0:00:01\r\u001b[K     |█████████████████████▏          | 399kB 7.5MB/s eta 0:00:01\r\u001b[K     |█████████████████████▋          | 409kB 7.5MB/s eta 0:00:01\r\u001b[K     |██████████████████████▏         | 419kB 7.5MB/s eta 0:00:01\r\u001b[K     |██████████████████████▊         | 430kB 7.5MB/s eta 0:00:01\r\u001b[K     |███████████████████████▎        | 440kB 7.5MB/s eta 0:00:01\r\u001b[K     |███████████████████████▉        | 450kB 7.5MB/s eta 0:00:01\r\u001b[K     |████████████████████████▍       | 460kB 7.5MB/s eta 0:00:01\r\u001b[K     |█████████████████████████       | 471kB 7.5MB/s eta 0:00:01\r\u001b[K     |█████████████████████████▍      | 481kB 7.5MB/s eta 0:00:01\r\u001b[K     |██████████████████████████      | 491kB 7.5MB/s eta 0:00:01\r\u001b[K     |██████████████████████████▌     | 501kB 7.5MB/s eta 0:00:01\r\u001b[K     |███████████████████████████     | 512kB 7.5MB/s eta 0:00:01\r\u001b[K     |███████████████████████████▋    | 522kB 7.5MB/s eta 0:00:01\r\u001b[K     |████████████████████████████▏   | 532kB 7.5MB/s eta 0:00:01\r\u001b[K     |████████████████████████████▊   | 542kB 7.5MB/s eta 0:00:01\r\u001b[K     |█████████████████████████████▎  | 552kB 7.5MB/s eta 0:00:01\r\u001b[K     |█████████████████████████████▊  | 563kB 7.5MB/s eta 0:00:01\r\u001b[K     |██████████████████████████████▎ | 573kB 7.5MB/s eta 0:00:01\r\u001b[K     |██████████████████████████████▉ | 583kB 7.5MB/s eta 0:00:01\r\u001b[K     |███████████████████████████████▍| 593kB 7.5MB/s eta 0:00:01\r\u001b[K     |████████████████████████████████| 604kB 7.5MB/s eta 0:00:01\r\u001b[K     |████████████████████████████████| 614kB 7.5MB/s \n",
            "\u001b[?25hInstalling collected packages: guppy3\n",
            "Successfully installed guppy3-3.1.0\n"
          ],
          "name": "stdout"
        },
        {
          "output_type": "stream",
          "text": [
            "/usr/local/lib/python3.6/dist-packages/torch/distributed/distributed_c10d.py:126: UserWarning: torch.distributed.reduce_op is deprecated, please use torch.distributed.ReduceOp instead\n",
            "  warnings.warn(\"torch.distributed.reduce_op is deprecated, please use \"\n"
          ],
          "name": "stderr"
        },
        {
          "output_type": "stream",
          "text": [
            "Partition of a set of 783128 objects. Total size = 125963352 bytes.\n",
            " Index  Count   %     Size   % Cumulative  % Kind (class / dict of class)\n",
            "     0 196779  25 28640698  23  28640698  23 str\n",
            "     1  15354   2 22776608  18  51417306  41 list\n",
            "     2 197746  25 15299840  12  66717146  53 tuple\n",
            "     3  38477   5 10865411   9  77582557  62 numpy.ndarray\n",
            "     4  82507  11  6568197   5  84150754  67 bytes\n",
            "     5  42112   5  6094240   5  90244994  72 types.CodeType\n",
            "     6  41973   5  5708328   5  95953322  76 function\n",
            "     7  15850   2  5443336   4 101396658  80 dict (no owner)\n",
            "     8   4651   1  4555248   4 105951906  84 type\n",
            "     9   1931   0  2934032   2 108885938  86 dict of module\n",
            "<1803 more rows. Type e.g. '_.more' to view.>\n"
          ],
          "name": "stdout"
        }
      ]
    },
    {
      "cell_type": "code",
      "metadata": {
        "colab": {
          "base_uri": "https://localhost:8080/"
        },
        "id": "a49-iSVX9O7z",
        "outputId": "fe99cd8c-9a9b-4b60-8617-7a74184d85ef"
      },
      "source": [
        "gc.collect()"
      ],
      "execution_count": null,
      "outputs": [
        {
          "output_type": "execute_result",
          "data": {
            "text/plain": [
              "7568"
            ]
          },
          "metadata": {
            "tags": []
          },
          "execution_count": 25
        }
      ]
    },
    {
      "cell_type": "code",
      "metadata": {
        "colab": {
          "base_uri": "https://localhost:8080/"
        },
        "id": "HrkTJa_ezRFs",
        "outputId": "53d53f92-dbf9-4fac-b949-763d6c84ffe5"
      },
      "source": [
        "batchSize = 16\n",
        "\n",
        "testx = torch.tensor(testx,dtype=torch.float32)\n",
        "testy = torch.tensor(testy,dtype=torch.float32)\n",
        "testLoader = torch.utils.data.DataLoader(dataset=torch.utils.data.TensorDataset(testx,testy),\n",
        "                                          batch_size=batchSize)\n",
        "\n",
        "del testx\n",
        "del testy\n",
        "gc.collect()"
      ],
      "execution_count": null,
      "outputs": [
        {
          "output_type": "execute_result",
          "data": {
            "text/plain": [
              "2"
            ]
          },
          "metadata": {
            "tags": []
          },
          "execution_count": 26
        }
      ]
    },
    {
      "cell_type": "code",
      "metadata": {
        "id": "5dtuH5X1WraV"
      },
      "source": [
        "path = \"/content/\"\n",
        "filename = \"first_run\""
      ],
      "execution_count": null,
      "outputs": []
    },
    {
      "cell_type": "code",
      "metadata": {
        "colab": {
          "base_uri": "https://localhost:8080/"
        },
        "id": "M8rL5c6QoXUU",
        "outputId": "057a2b5d-ac8c-4e24-f6f9-61b928009856"
      },
      "source": [
        "gc.collect()"
      ],
      "execution_count": null,
      "outputs": [
        {
          "output_type": "execute_result",
          "data": {
            "text/plain": [
              "2"
            ]
          },
          "metadata": {
            "tags": []
          },
          "execution_count": 28
        }
      ]
    },
    {
      "cell_type": "code",
      "metadata": {
        "id": "68Jc0GC_sIkf"
      },
      "source": [
        "# drive.flush_and_unmount()"
      ],
      "execution_count": null,
      "outputs": []
    },
    {
      "cell_type": "markdown",
      "metadata": {
        "id": "yGSf4eKizwIo"
      },
      "source": [
        "Reference for the last layers of BLSTM:\n",
        "https://towardsdatascience.com/understanding-bidirectional-rnn-in-pytorch-5bd25a5dd66"
      ]
    },
    {
      "cell_type": "markdown",
      "metadata": {
        "id": "1KI8wzLoLpCk"
      },
      "source": [
        "# **Bidirection**\n",
        "\n",
        "\n",
        "I am taking the average of the forward (last sequence) and backward(first sequence) and passing it to the final classification layer which is fully connected layer"
      ]
    },
    {
      "cell_type": "code",
      "metadata": {
        "id": "wizgywXA93pN"
      },
      "source": [
        "class BIDIRECTIONAL_LSTM(nn.Module):\n",
        "    def __init__(self,input_size,sequence_length,hidden_size,num_layers,num_classes,batch_size,batch_first=False):\n",
        "        super(BIDIRECTIONAL_LSTM,self).__init__()\n",
        "        self.input_size = input_size     #size of the word embedding\n",
        "        self.hidden_size=hidden_size     #size of the hidden layer\n",
        "        self.num_layers=num_layers       #if the lstm is stacked\n",
        "        self.batch_first=batch_first     #if the batch_size is the first dimension or sequence len\n",
        "        self.batch_size = batch_size\n",
        "        self.sequence_length = sequence_length\n",
        "\n",
        "        #input size will be the size of the inputs x1,...xn\n",
        "        #hidden state has hidden_size\n",
        "        self.bidirLSTM = torch.nn.LSTM(input_size,hidden_size,num_layers,batch_first,dropout = 0.5,bidirectional=True)\n",
        "        self.dropout = nn.Dropout(0.5)\n",
        "        self.fullyconnected = nn.Linear(hidden_size,num_classes)\n",
        "    def forward(self,x):\n",
        "        #initialze the weights to 0, for every element in the batch\n",
        "        #num_layer,batch_size, hidden_size\n",
        "        \n",
        "        #x.size(1) is the batch size\n",
        "        h_0 = torch.zeros(self.num_layers*2,x.size(1),self.hidden_size).to(device)\n",
        "#         print(h_0.shape)\n",
        "        c_0 = torch.zeros(self.num_layers*2,x.size(1),self.hidden_size).to(device)\n",
        "        # seqlen,batch, hidden_size*2\n",
        "        out, (h_n,c_n) = self.bidirLSTM(x,(h_0,c_0))\n",
        "        #seq,batch,  hidden\n",
        "        # print(\"befor\",out.shape)\n",
        "        outview = out.contiguous().view(self.sequence_length,-1, 2, self.hidden_size)\n",
        "        #seq batch 2 hidden\n",
        "        forward = outview[-1,:,0,:]     #-1 = last node/sequence 0 = forward \n",
        "        backward = outview[0,:,1,:]     #0 =  first node/sequence 1 = backward              \n",
        "        \n",
        "        #taking average of the forward and the backward passes\n",
        "        out = torch.add(input=forward, other=backward,alpha=1,)\n",
        "        out = torch.div(out, 2)\n",
        "\n",
        "        # out = outview[-1,:,0,:]\n",
        "        out = out.contiguous().view(-1, self.hidden_size)        \n",
        "        out = self.fullyconnected(out)\n",
        "        # print(out.shape)\n",
        "        # out = torch.sigmoid(out)\n",
        "        return out\n",
        "\n",
        "\n"
      ],
      "execution_count": null,
      "outputs": []
    },
    {
      "cell_type": "code",
      "metadata": {
        "id": "XntG1A1QRYE_"
      },
      "source": [
        "batch_size = 16\n",
        "sequence_length = max_length #500\n",
        "input_size = embed_size #50\n",
        "hidden_size = 128\n",
        "num_layers = 2\n",
        "num_classes = 2\n",
        "\n",
        "#to use gpu\n",
        "model = BIDIRECTIONAL_LSTM(input_size,sequence_length, hidden_size, num_layers, num_classes,batch_size).to(device)\n",
        "\n",
        "    \n",
        "learning_rate = 0.003\n",
        "criterion = nn.CrossEntropyLoss()\n",
        "optimizer = torch.optim.Adam(model.parameters(), lr=learning_rate)"
      ],
      "execution_count": null,
      "outputs": []
    },
    {
      "cell_type": "code",
      "metadata": {
        "colab": {
          "base_uri": "https://localhost:8080/"
        },
        "id": "bNAH2KdfOh8O",
        "outputId": "cdc9c8b3-bf20-4968-940a-dd61ea1b6103"
      },
      "source": [
        "gc.collect()"
      ],
      "execution_count": null,
      "outputs": [
        {
          "output_type": "execute_result",
          "data": {
            "text/plain": [
              "2"
            ]
          },
          "metadata": {
            "tags": []
          },
          "execution_count": 32
        }
      ]
    },
    {
      "cell_type": "markdown",
      "metadata": {
        "id": "MoG8DLnOM4ZD"
      },
      "source": [
        "# ***Training ***"
      ]
    },
    {
      "cell_type": "code",
      "metadata": {
        "colab": {
          "background_save": true,
          "base_uri": "https://localhost:8080/"
        },
        "id": "SPlmRFaz-NJW",
        "outputId": "2db5c613-7d82-4e0f-80ba-835c1ed181f6"
      },
      "source": [
        "epoch,nEpochs = 0,15\n",
        "log_interval = 100  #step size\n",
        "\n",
        "dataset_size = len(trainLoader.dataset) #number of reviews in training dataset\n",
        "valdata_size = len(valLoader.dataset) #number of reviews in validation dataset\n",
        "best_accuracy = math.inf\n",
        "trainLosses,trainAccuracy,validationAccuracy = [],[],[]\n",
        "validationLoss =[]\n",
        "clip =5\n",
        "# fig,axes = plt.subplots(1,4,figsize=(25,6))\n",
        "start = time.time()\n",
        "\n",
        "while epoch <= nEpochs:# and not stop_training:\n",
        "\n",
        "    model.train()\n",
        "    running_corrects = 0\n",
        "    running_loss = 0\n",
        "    batch = 0\n",
        "    for batch_num, (seq, labels) in enumerate(trainLoader):\n",
        "        # seq = seq.reshape(sequence_length,batch_size ,input_size).to(device)\n",
        "        seq = seq.reshape(sequence_length,-1 ,input_size).to(device)  #the batch size might not be same as batch_size for the last batch\n",
        "        labels = labels.to(device)\n",
        "        \n",
        "        optimizer.zero_grad()\n",
        "        outputs = model(seq).to(device)\n",
        "        _,predictions =  torch.max(outputs, 1) #max of the final layer \n",
        "        running_corrects += (torch.sum(predictions==labels).item()) #number of right predicitions         \n",
        "        \n",
        "        #backpropagate\n",
        "        with torch.set_grad_enabled(True):\n",
        "            loss = criterion(outputs, labels.long())\n",
        "            loss.backward()\n",
        "            nn.utils.clip_grad_norm_(model.parameters(), clip)\n",
        "            optimizer.step()\n",
        "\n",
        "        loss_value = loss.detach().item()\n",
        "        running_loss += loss_value\n",
        "        # batch += len(trainLoader)\n",
        "        if batch_num % log_interval == 0:  #at step size, output batch loss        \n",
        "            print('Training Epoch: {0}[{1}/{2} sentences]\\\n",
        "            Training Loss: {3:.6f}'.format(epoch+1, batch_num * batch_size,dataset_size,loss_value))   \n",
        "    trainAccuracy.append(running_corrects/len(trainLoader))\n",
        "    trainLosses.append(running_loss/len(trainLoader))\n",
        "\n",
        "\n",
        "    #validation\n",
        "    model.eval()\n",
        "    with torch.set_grad_enabled(False):  #gradient not backpack propagated\n",
        "        val_losses = 0\n",
        "        val_accuracy = 0\n",
        "        for _, (val_batch, val_labels ) in enumerate(valLoader):                    \n",
        "            # val_batch = val_batch.reshape(sequence_length,batch_size ,input_size).to(device)\n",
        "            val_batch = val_batch.reshape(sequence_length,-1 ,input_size).to(device)\n",
        "            val_labels = val_labels.to(device)\n",
        "            val_outputs = model(val_batch).to(device)\n",
        "            #find the average loss and the total loss\n",
        "            val_losses+=(criterion(val_outputs, val_labels.long()).item())\n",
        "\n",
        "            _, val_predictions = torch.max(val_outputs, 1)\n",
        "            val_accuracy+=(torch.sum(val_predictions==val_labels).item() )\n",
        "\n",
        "        validationAccuracy.append(val_accuracy/len(valLoader)) \n",
        "        validationLoss.append(val_losses/len(valLoader))\n",
        "\n",
        "    print('After Epoch: {0}\\\n",
        "            Training Loss: {1:.6f}\\\n",
        "            Training Accuracy {2:.6f}\\\n",
        "            Validation Loss: {3:.6f}\\\n",
        "            Validation Accuracy {4:.6f}'.format(epoch+1,trainLosses[-1],trainAccuracy[-1],validationLoss[-1],validationAccuracy[-1])) \n",
        "        \n",
        "    \n",
        "    if validationAccuracy[-1] > best_accuracy:\n",
        "            best_Accuracy = validationAccuracy[-1]\n",
        "            best_model_weights = copy.deepcopy(model.state_dict())            \n",
        "            torch.save(best_model_weights, path+filename+\".pt\") \n",
        "    with open(path+filename+\".pkl\",\"wb\") as f:\n",
        "        pickle.dump([trainLosses,trainAccuracy,validationAccuracy],f)\n",
        "                                 \n",
        "    # axes[0].plot(trainLosses,label=\"Training loss\")\n",
        "    # axes[1].plot(validationLoss,label=\"Validation loss\")\n",
        "    # axes[3].plot(validationAccuracy,label=\"Validation accuracy\")\n",
        "    # axes[2].plot(trainAccuracy,label=\"Training accuracy\")\n",
        "    \n",
        "    epoch = epoch + 1\n",
        "    \n",
        "end = time.time()\n",
        "# plt.show()\n"
      ],
      "execution_count": null,
      "outputs": [
        {
          "output_type": "stream",
          "text": [
            "Training Epoch: 1[0/40000 sentences]            Training Loss: 0.691497\n",
            "Training Epoch: 1[1600/40000 sentences]            Training Loss: 0.685882\n",
            "Training Epoch: 1[3200/40000 sentences]            Training Loss: 0.695251\n",
            "Training Epoch: 1[4800/40000 sentences]            Training Loss: 0.701367\n",
            "Training Epoch: 1[6400/40000 sentences]            Training Loss: 0.717480\n",
            "Training Epoch: 1[8000/40000 sentences]            Training Loss: 0.691240\n",
            "Training Epoch: 1[9600/40000 sentences]            Training Loss: 0.692179\n",
            "Training Epoch: 1[11200/40000 sentences]            Training Loss: 0.685556\n",
            "Training Epoch: 1[12800/40000 sentences]            Training Loss: 0.692602\n",
            "Training Epoch: 1[14400/40000 sentences]            Training Loss: 0.697843\n",
            "Training Epoch: 1[16000/40000 sentences]            Training Loss: 0.676955\n",
            "Training Epoch: 1[17600/40000 sentences]            Training Loss: 0.699188\n",
            "Training Epoch: 1[19200/40000 sentences]            Training Loss: 0.693417\n",
            "Training Epoch: 1[20800/40000 sentences]            Training Loss: 0.686014\n",
            "Training Epoch: 1[22400/40000 sentences]            Training Loss: 0.689452\n",
            "Training Epoch: 1[24000/40000 sentences]            Training Loss: 0.675195\n",
            "Training Epoch: 1[25600/40000 sentences]            Training Loss: 0.695183\n",
            "Training Epoch: 1[27200/40000 sentences]            Training Loss: 0.686197\n",
            "Training Epoch: 1[28800/40000 sentences]            Training Loss: 0.692691\n",
            "Training Epoch: 1[30400/40000 sentences]            Training Loss: 0.692638\n",
            "Training Epoch: 1[32000/40000 sentences]            Training Loss: 0.694841\n",
            "Training Epoch: 1[33600/40000 sentences]            Training Loss: 0.693837\n",
            "Training Epoch: 1[35200/40000 sentences]            Training Loss: 0.696533\n",
            "Training Epoch: 1[36800/40000 sentences]            Training Loss: 0.692194\n",
            "Training Epoch: 1[38400/40000 sentences]            Training Loss: 0.712375\n",
            "After Epoch: 1            Training Loss: 0.694450            Training Accuracy 8.044400            Validation Loss: 0.694082            Validation Accuracy 7.805112\n",
            "Training Epoch: 2[0/40000 sentences]            Training Loss: 0.689816\n",
            "Training Epoch: 2[1600/40000 sentences]            Training Loss: 0.696858\n",
            "Training Epoch: 2[3200/40000 sentences]            Training Loss: 0.696980\n",
            "Training Epoch: 2[4800/40000 sentences]            Training Loss: 0.701751\n",
            "Training Epoch: 2[6400/40000 sentences]            Training Loss: 0.718207\n",
            "Training Epoch: 2[8000/40000 sentences]            Training Loss: 0.687804\n",
            "Training Epoch: 2[9600/40000 sentences]            Training Loss: 0.693403\n",
            "Training Epoch: 2[11200/40000 sentences]            Training Loss: 0.690475\n",
            "Training Epoch: 2[12800/40000 sentences]            Training Loss: 0.697003\n",
            "Training Epoch: 2[14400/40000 sentences]            Training Loss: 0.686542\n",
            "Training Epoch: 2[16000/40000 sentences]            Training Loss: 0.680300\n",
            "Training Epoch: 2[17600/40000 sentences]            Training Loss: 0.690714\n",
            "Training Epoch: 2[19200/40000 sentences]            Training Loss: 0.684461\n",
            "Training Epoch: 2[20800/40000 sentences]            Training Loss: 0.691440\n",
            "Training Epoch: 2[22400/40000 sentences]            Training Loss: 0.691672\n",
            "Training Epoch: 2[24000/40000 sentences]            Training Loss: 0.695715\n",
            "Training Epoch: 2[25600/40000 sentences]            Training Loss: 0.697485\n",
            "Training Epoch: 2[27200/40000 sentences]            Training Loss: 0.690787\n",
            "Training Epoch: 2[28800/40000 sentences]            Training Loss: 0.695780\n",
            "Training Epoch: 2[30400/40000 sentences]            Training Loss: 0.691880\n",
            "Training Epoch: 2[32000/40000 sentences]            Training Loss: 0.690548\n",
            "Training Epoch: 2[33600/40000 sentences]            Training Loss: 0.690354\n",
            "Training Epoch: 2[35200/40000 sentences]            Training Loss: 0.688386\n",
            "Training Epoch: 2[36800/40000 sentences]            Training Loss: 0.686318\n",
            "Training Epoch: 2[38400/40000 sentences]            Training Loss: 0.713264\n",
            "After Epoch: 2            Training Loss: 0.693760            Training Accuracy 7.977200            Validation Loss: 0.693993            Validation Accuracy 7.821086\n",
            "Training Epoch: 3[0/40000 sentences]            Training Loss: 0.686500\n",
            "Training Epoch: 3[1600/40000 sentences]            Training Loss: 0.691906\n",
            "Training Epoch: 3[3200/40000 sentences]            Training Loss: 0.703322\n",
            "Training Epoch: 3[4800/40000 sentences]            Training Loss: 0.697670\n",
            "Training Epoch: 3[6400/40000 sentences]            Training Loss: 0.707935\n",
            "Training Epoch: 3[8000/40000 sentences]            Training Loss: 0.692001\n",
            "Training Epoch: 3[9600/40000 sentences]            Training Loss: 0.686429\n",
            "Training Epoch: 3[11200/40000 sentences]            Training Loss: 0.689243\n",
            "Training Epoch: 3[12800/40000 sentences]            Training Loss: 0.687053\n",
            "Training Epoch: 3[14400/40000 sentences]            Training Loss: 0.698387\n",
            "Training Epoch: 3[16000/40000 sentences]            Training Loss: 0.681764\n",
            "Training Epoch: 3[17600/40000 sentences]            Training Loss: 0.698362\n",
            "Training Epoch: 3[19200/40000 sentences]            Training Loss: 0.699232\n",
            "Training Epoch: 3[20800/40000 sentences]            Training Loss: 0.702266\n",
            "Training Epoch: 3[22400/40000 sentences]            Training Loss: 0.694809\n",
            "Training Epoch: 3[24000/40000 sentences]            Training Loss: 0.683656\n",
            "Training Epoch: 3[25600/40000 sentences]            Training Loss: 0.697795\n",
            "Training Epoch: 3[27200/40000 sentences]            Training Loss: 0.687868\n",
            "Training Epoch: 3[28800/40000 sentences]            Training Loss: 0.699702\n",
            "Training Epoch: 3[30400/40000 sentences]            Training Loss: 0.691683\n",
            "Training Epoch: 3[32000/40000 sentences]            Training Loss: 0.684384\n",
            "Training Epoch: 3[33600/40000 sentences]            Training Loss: 0.686690\n",
            "Training Epoch: 3[35200/40000 sentences]            Training Loss: 0.679319\n",
            "Training Epoch: 3[36800/40000 sentences]            Training Loss: 0.672325\n",
            "Training Epoch: 3[38400/40000 sentences]            Training Loss: 0.696339\n",
            "After Epoch: 3            Training Loss: 0.693812            Training Accuracy 8.029600            Validation Loss: 0.693557            Validation Accuracy 7.808307\n",
            "Training Epoch: 4[0/40000 sentences]            Training Loss: 0.676630\n",
            "Training Epoch: 4[1600/40000 sentences]            Training Loss: 0.676390\n",
            "Training Epoch: 4[3200/40000 sentences]            Training Loss: 0.695327\n",
            "Training Epoch: 4[4800/40000 sentences]            Training Loss: 0.708355\n",
            "Training Epoch: 4[6400/40000 sentences]            Training Loss: 0.708011\n",
            "Training Epoch: 4[8000/40000 sentences]            Training Loss: 0.695112\n",
            "Training Epoch: 4[9600/40000 sentences]            Training Loss: 0.695210\n",
            "Training Epoch: 4[11200/40000 sentences]            Training Loss: 0.692290\n",
            "Training Epoch: 4[12800/40000 sentences]            Training Loss: 0.696084\n",
            "Training Epoch: 4[14400/40000 sentences]            Training Loss: 0.690598\n",
            "Training Epoch: 4[16000/40000 sentences]            Training Loss: 0.680532\n",
            "Training Epoch: 4[17600/40000 sentences]            Training Loss: 0.685384\n",
            "Training Epoch: 4[19200/40000 sentences]            Training Loss: 0.690036\n",
            "Training Epoch: 4[20800/40000 sentences]            Training Loss: 0.693439\n",
            "Training Epoch: 4[22400/40000 sentences]            Training Loss: 0.688605\n",
            "Training Epoch: 4[24000/40000 sentences]            Training Loss: 0.698871\n",
            "Training Epoch: 4[25600/40000 sentences]            Training Loss: 0.693042\n",
            "Training Epoch: 4[27200/40000 sentences]            Training Loss: 0.692996\n",
            "Training Epoch: 4[28800/40000 sentences]            Training Loss: 0.691639\n",
            "Training Epoch: 4[30400/40000 sentences]            Training Loss: 0.688979\n",
            "Training Epoch: 4[32000/40000 sentences]            Training Loss: 0.684451\n",
            "Training Epoch: 4[33600/40000 sentences]            Training Loss: 0.688182\n",
            "Training Epoch: 4[35200/40000 sentences]            Training Loss: 0.680833\n",
            "Training Epoch: 4[36800/40000 sentences]            Training Loss: 0.672016\n",
            "Training Epoch: 4[38400/40000 sentences]            Training Loss: 0.691632\n",
            "After Epoch: 4            Training Loss: 0.693633            Training Accuracy 8.000800            Validation Loss: 0.694781            Validation Accuracy 7.907348\n",
            "Training Epoch: 5[0/40000 sentences]            Training Loss: 0.698334\n",
            "Training Epoch: 5[1600/40000 sentences]            Training Loss: 0.686913\n",
            "Training Epoch: 5[3200/40000 sentences]            Training Loss: 0.709048\n",
            "Training Epoch: 5[4800/40000 sentences]            Training Loss: 0.690310\n",
            "Training Epoch: 5[6400/40000 sentences]            Training Loss: 0.709056\n",
            "Training Epoch: 5[8000/40000 sentences]            Training Loss: 0.710310\n",
            "Training Epoch: 5[9600/40000 sentences]            Training Loss: 0.681274\n",
            "Training Epoch: 5[11200/40000 sentences]            Training Loss: 0.687667\n",
            "Training Epoch: 5[12800/40000 sentences]            Training Loss: 0.692319\n",
            "Training Epoch: 5[14400/40000 sentences]            Training Loss: 0.690149\n",
            "Training Epoch: 5[16000/40000 sentences]            Training Loss: 0.684116\n",
            "Training Epoch: 5[17600/40000 sentences]            Training Loss: 0.689509\n",
            "Training Epoch: 5[19200/40000 sentences]            Training Loss: 0.701598\n",
            "Training Epoch: 5[20800/40000 sentences]            Training Loss: 0.692113\n",
            "Training Epoch: 5[22400/40000 sentences]            Training Loss: 0.683880\n",
            "Training Epoch: 5[24000/40000 sentences]            Training Loss: 0.683581\n",
            "Training Epoch: 5[25600/40000 sentences]            Training Loss: 0.691942\n",
            "Training Epoch: 5[27200/40000 sentences]            Training Loss: 0.696884\n",
            "Training Epoch: 5[28800/40000 sentences]            Training Loss: 0.691756\n",
            "Training Epoch: 5[30400/40000 sentences]            Training Loss: 0.695223\n",
            "Training Epoch: 5[32000/40000 sentences]            Training Loss: 0.680225\n",
            "Training Epoch: 5[33600/40000 sentences]            Training Loss: 0.677666\n",
            "Training Epoch: 5[35200/40000 sentences]            Training Loss: 0.682398\n",
            "Training Epoch: 5[36800/40000 sentences]            Training Loss: 0.671755\n",
            "Training Epoch: 5[38400/40000 sentences]            Training Loss: 0.695495\n",
            "After Epoch: 5            Training Loss: 0.693693            Training Accuracy 8.046400            Validation Loss: 0.701497            Validation Accuracy 7.763578\n",
            "Training Epoch: 6[0/40000 sentences]            Training Loss: 0.675394\n",
            "Training Epoch: 6[1600/40000 sentences]            Training Loss: 0.676127\n",
            "Training Epoch: 6[3200/40000 sentences]            Training Loss: 0.703869\n",
            "Training Epoch: 6[4800/40000 sentences]            Training Loss: 0.703820\n",
            "Training Epoch: 6[6400/40000 sentences]            Training Loss: 0.714548\n",
            "Training Epoch: 6[8000/40000 sentences]            Training Loss: 0.698374\n",
            "Training Epoch: 6[9600/40000 sentences]            Training Loss: 0.689660\n",
            "Training Epoch: 6[11200/40000 sentences]            Training Loss: 0.682459\n",
            "Training Epoch: 6[12800/40000 sentences]            Training Loss: 0.688102\n",
            "Training Epoch: 6[14400/40000 sentences]            Training Loss: 0.692591\n",
            "Training Epoch: 6[16000/40000 sentences]            Training Loss: 0.686430\n",
            "Training Epoch: 6[17600/40000 sentences]            Training Loss: 0.683092\n",
            "Training Epoch: 6[19200/40000 sentences]            Training Loss: 0.707106\n",
            "Training Epoch: 6[20800/40000 sentences]            Training Loss: 0.686344\n",
            "Training Epoch: 6[22400/40000 sentences]            Training Loss: 0.688352\n",
            "Training Epoch: 6[24000/40000 sentences]            Training Loss: 0.701047\n",
            "Training Epoch: 6[25600/40000 sentences]            Training Loss: 0.692281\n",
            "Training Epoch: 6[27200/40000 sentences]            Training Loss: 0.694295\n",
            "Training Epoch: 6[28800/40000 sentences]            Training Loss: 0.698753\n",
            "Training Epoch: 6[30400/40000 sentences]            Training Loss: 0.693346\n",
            "Training Epoch: 6[32000/40000 sentences]            Training Loss: 0.701902\n",
            "Training Epoch: 6[33600/40000 sentences]            Training Loss: 0.698786\n",
            "Training Epoch: 6[35200/40000 sentences]            Training Loss: 0.691116\n",
            "Training Epoch: 6[36800/40000 sentences]            Training Loss: 0.671111\n",
            "Training Epoch: 6[38400/40000 sentences]            Training Loss: 0.728491\n",
            "After Epoch: 6            Training Loss: 0.693682            Training Accuracy 8.004000            Validation Loss: 0.695863            Validation Accuracy 7.827476\n",
            "Training Epoch: 7[0/40000 sentences]            Training Loss: 0.688848\n",
            "Training Epoch: 7[1600/40000 sentences]            Training Loss: 0.676684\n",
            "Training Epoch: 7[3200/40000 sentences]            Training Loss: 0.699847\n",
            "Training Epoch: 7[4800/40000 sentences]            Training Loss: 0.707967\n",
            "Training Epoch: 7[6400/40000 sentences]            Training Loss: 0.717590\n",
            "Training Epoch: 7[8000/40000 sentences]            Training Loss: 0.701440\n",
            "Training Epoch: 7[9600/40000 sentences]            Training Loss: 0.691494\n",
            "Training Epoch: 7[11200/40000 sentences]            Training Loss: 0.671911\n",
            "Training Epoch: 7[12800/40000 sentences]            Training Loss: 0.685272\n",
            "Training Epoch: 7[14400/40000 sentences]            Training Loss: 0.688954\n",
            "Training Epoch: 7[16000/40000 sentences]            Training Loss: 0.693680\n",
            "Training Epoch: 7[17600/40000 sentences]            Training Loss: 0.686994\n",
            "Training Epoch: 7[19200/40000 sentences]            Training Loss: 0.696549\n",
            "Training Epoch: 7[20800/40000 sentences]            Training Loss: 0.696093\n",
            "Training Epoch: 7[22400/40000 sentences]            Training Loss: 0.677543\n",
            "Training Epoch: 7[24000/40000 sentences]            Training Loss: 0.697314\n",
            "Training Epoch: 7[25600/40000 sentences]            Training Loss: 0.705694\n",
            "Training Epoch: 7[27200/40000 sentences]            Training Loss: 0.695165\n",
            "Training Epoch: 7[28800/40000 sentences]            Training Loss: 0.692404\n",
            "Training Epoch: 7[30400/40000 sentences]            Training Loss: 0.689577\n",
            "Training Epoch: 7[32000/40000 sentences]            Training Loss: 0.677717\n",
            "Training Epoch: 7[33600/40000 sentences]            Training Loss: 0.698036\n",
            "Training Epoch: 7[35200/40000 sentences]            Training Loss: 0.700526\n",
            "Training Epoch: 7[36800/40000 sentences]            Training Loss: 0.658045\n",
            "Training Epoch: 7[38400/40000 sentences]            Training Loss: 0.693640\n",
            "After Epoch: 7            Training Loss: 0.693133            Training Accuracy 8.122800            Validation Loss: 0.696200            Validation Accuracy 7.805112\n",
            "Training Epoch: 8[0/40000 sentences]            Training Loss: 0.677409\n",
            "Training Epoch: 8[1600/40000 sentences]            Training Loss: 0.673935\n",
            "Training Epoch: 8[3200/40000 sentences]            Training Loss: 0.706844\n",
            "Training Epoch: 8[4800/40000 sentences]            Training Loss: 0.696027\n",
            "Training Epoch: 8[6400/40000 sentences]            Training Loss: 0.702494\n",
            "Training Epoch: 8[8000/40000 sentences]            Training Loss: 0.698857\n",
            "Training Epoch: 8[9600/40000 sentences]            Training Loss: 0.692750\n",
            "Training Epoch: 8[11200/40000 sentences]            Training Loss: 0.675459\n",
            "Training Epoch: 8[12800/40000 sentences]            Training Loss: 0.686947\n",
            "Training Epoch: 8[14400/40000 sentences]            Training Loss: 0.691552\n",
            "Training Epoch: 8[16000/40000 sentences]            Training Loss: 0.694757\n",
            "Training Epoch: 8[17600/40000 sentences]            Training Loss: 0.700256\n",
            "Training Epoch: 8[19200/40000 sentences]            Training Loss: 0.706620\n",
            "Training Epoch: 8[20800/40000 sentences]            Training Loss: 0.695444\n",
            "Training Epoch: 8[22400/40000 sentences]            Training Loss: 0.684110\n",
            "Training Epoch: 8[24000/40000 sentences]            Training Loss: 0.699127\n",
            "Training Epoch: 8[25600/40000 sentences]            Training Loss: 0.695136\n",
            "Training Epoch: 8[27200/40000 sentences]            Training Loss: 0.696258\n",
            "Training Epoch: 8[28800/40000 sentences]            Training Loss: 0.704336\n",
            "Training Epoch: 8[30400/40000 sentences]            Training Loss: 0.682096\n",
            "Training Epoch: 8[32000/40000 sentences]            Training Loss: 0.682727\n",
            "Training Epoch: 8[33600/40000 sentences]            Training Loss: 0.704528\n",
            "Training Epoch: 8[35200/40000 sentences]            Training Loss: 0.688282\n",
            "Training Epoch: 8[36800/40000 sentences]            Training Loss: 0.689555\n",
            "Training Epoch: 8[38400/40000 sentences]            Training Loss: 0.694493\n",
            "After Epoch: 8            Training Loss: 0.692852            Training Accuracy 8.156400            Validation Loss: 0.699991            Validation Accuracy 7.766773\n",
            "Training Epoch: 9[0/40000 sentences]            Training Loss: 0.670915\n",
            "Training Epoch: 9[1600/40000 sentences]            Training Loss: 0.648913\n",
            "Training Epoch: 9[3200/40000 sentences]            Training Loss: 0.706006\n",
            "Training Epoch: 9[4800/40000 sentences]            Training Loss: 0.694474\n",
            "Training Epoch: 9[6400/40000 sentences]            Training Loss: 0.714522\n",
            "Training Epoch: 9[8000/40000 sentences]            Training Loss: 0.687602\n",
            "Training Epoch: 9[9600/40000 sentences]            Training Loss: 0.703385\n",
            "Training Epoch: 9[11200/40000 sentences]            Training Loss: 0.671653\n",
            "Training Epoch: 9[12800/40000 sentences]            Training Loss: 0.688287\n",
            "Training Epoch: 9[14400/40000 sentences]            Training Loss: 0.682923\n",
            "Training Epoch: 9[16000/40000 sentences]            Training Loss: 0.695117\n",
            "Training Epoch: 9[17600/40000 sentences]            Training Loss: 0.676314\n",
            "Training Epoch: 9[19200/40000 sentences]            Training Loss: 0.706066\n",
            "Training Epoch: 9[20800/40000 sentences]            Training Loss: 0.660401\n",
            "Training Epoch: 9[22400/40000 sentences]            Training Loss: 0.703402\n",
            "Training Epoch: 9[24000/40000 sentences]            Training Loss: 0.691039\n",
            "Training Epoch: 9[25600/40000 sentences]            Training Loss: 0.701677\n",
            "Training Epoch: 9[27200/40000 sentences]            Training Loss: 0.679830\n",
            "Training Epoch: 9[28800/40000 sentences]            Training Loss: 0.701173\n",
            "Training Epoch: 9[30400/40000 sentences]            Training Loss: 0.692322\n",
            "Training Epoch: 9[32000/40000 sentences]            Training Loss: 0.655618\n",
            "Training Epoch: 9[33600/40000 sentences]            Training Loss: 0.687885\n",
            "Training Epoch: 9[35200/40000 sentences]            Training Loss: 0.679562\n",
            "Training Epoch: 9[36800/40000 sentences]            Training Loss: 0.676402\n",
            "Training Epoch: 9[38400/40000 sentences]            Training Loss: 0.712381\n",
            "After Epoch: 9            Training Loss: 0.691777            Training Accuracy 8.233600            Validation Loss: 0.699616            Validation Accuracy 7.872204\n",
            "Training Epoch: 10[0/40000 sentences]            Training Loss: 0.678587\n",
            "Training Epoch: 10[1600/40000 sentences]            Training Loss: 0.660819\n",
            "Training Epoch: 10[3200/40000 sentences]            Training Loss: 0.694224\n",
            "Training Epoch: 10[4800/40000 sentences]            Training Loss: 0.689870\n",
            "Training Epoch: 10[6400/40000 sentences]            Training Loss: 0.760598\n",
            "Training Epoch: 10[8000/40000 sentences]            Training Loss: 0.701716\n",
            "Training Epoch: 10[9600/40000 sentences]            Training Loss: 0.681307\n",
            "Training Epoch: 10[11200/40000 sentences]            Training Loss: 0.703305\n",
            "Training Epoch: 10[12800/40000 sentences]            Training Loss: 0.688521\n",
            "Training Epoch: 10[14400/40000 sentences]            Training Loss: 0.688410\n",
            "Training Epoch: 10[16000/40000 sentences]            Training Loss: 0.700342\n",
            "Training Epoch: 10[17600/40000 sentences]            Training Loss: 0.680310\n",
            "Training Epoch: 10[19200/40000 sentences]            Training Loss: 0.719251\n",
            "Training Epoch: 10[20800/40000 sentences]            Training Loss: 0.677416\n",
            "Training Epoch: 10[22400/40000 sentences]            Training Loss: 0.689021\n",
            "Training Epoch: 10[24000/40000 sentences]            Training Loss: 0.725890\n",
            "Training Epoch: 10[25600/40000 sentences]            Training Loss: 0.690426\n",
            "Training Epoch: 10[27200/40000 sentences]            Training Loss: 0.680740\n",
            "Training Epoch: 10[28800/40000 sentences]            Training Loss: 0.713001\n",
            "Training Epoch: 10[30400/40000 sentences]            Training Loss: 0.707686\n",
            "Training Epoch: 10[32000/40000 sentences]            Training Loss: 0.698205\n",
            "Training Epoch: 10[33600/40000 sentences]            Training Loss: 0.686804\n",
            "Training Epoch: 10[35200/40000 sentences]            Training Loss: 0.680354\n",
            "Training Epoch: 10[36800/40000 sentences]            Training Loss: 0.669887\n",
            "Training Epoch: 10[38400/40000 sentences]            Training Loss: 0.695301\n",
            "After Epoch: 10            Training Loss: 0.690327            Training Accuracy 8.233200            Validation Loss: 0.704801            Validation Accuracy 7.798722\n",
            "Training Epoch: 11[0/40000 sentences]            Training Loss: 0.719727\n",
            "Training Epoch: 11[1600/40000 sentences]            Training Loss: 0.618641\n",
            "Training Epoch: 11[3200/40000 sentences]            Training Loss: 0.710204\n",
            "Training Epoch: 11[4800/40000 sentences]            Training Loss: 0.723249\n",
            "Training Epoch: 11[6400/40000 sentences]            Training Loss: 0.726749\n",
            "Training Epoch: 11[8000/40000 sentences]            Training Loss: 0.686960\n",
            "Training Epoch: 11[9600/40000 sentences]            Training Loss: 0.693878\n",
            "Training Epoch: 11[11200/40000 sentences]            Training Loss: 0.690914\n",
            "Training Epoch: 11[12800/40000 sentences]            Training Loss: 0.682540\n",
            "Training Epoch: 11[14400/40000 sentences]            Training Loss: 0.702153\n",
            "Training Epoch: 11[16000/40000 sentences]            Training Loss: 0.667863\n",
            "Training Epoch: 11[17600/40000 sentences]            Training Loss: 0.688006\n",
            "Training Epoch: 11[19200/40000 sentences]            Training Loss: 0.727354\n",
            "Training Epoch: 11[20800/40000 sentences]            Training Loss: 0.682969\n",
            "Training Epoch: 11[22400/40000 sentences]            Training Loss: 0.691662\n",
            "Training Epoch: 11[24000/40000 sentences]            Training Loss: 0.772113\n",
            "Training Epoch: 11[25600/40000 sentences]            Training Loss: 0.668248\n",
            "Training Epoch: 11[27200/40000 sentences]            Training Loss: 0.668208\n",
            "Training Epoch: 11[28800/40000 sentences]            Training Loss: 0.711965\n",
            "Training Epoch: 11[30400/40000 sentences]            Training Loss: 0.697861\n",
            "Training Epoch: 11[32000/40000 sentences]            Training Loss: 0.690258\n",
            "Training Epoch: 11[33600/40000 sentences]            Training Loss: 0.752319\n",
            "Training Epoch: 11[35200/40000 sentences]            Training Loss: 0.692243\n",
            "Training Epoch: 11[36800/40000 sentences]            Training Loss: 0.685274\n",
            "Training Epoch: 11[38400/40000 sentences]            Training Loss: 0.713362\n",
            "After Epoch: 11            Training Loss: 0.689112            Training Accuracy 8.274800            Validation Loss: 0.706880            Validation Accuracy 7.811502\n",
            "Training Epoch: 12[0/40000 sentences]            Training Loss: 0.653824\n",
            "Training Epoch: 12[1600/40000 sentences]            Training Loss: 0.647059\n",
            "Training Epoch: 12[3200/40000 sentences]            Training Loss: 0.726406\n",
            "Training Epoch: 12[4800/40000 sentences]            Training Loss: 0.711460\n",
            "Training Epoch: 12[6400/40000 sentences]            Training Loss: 0.709162\n",
            "Training Epoch: 12[8000/40000 sentences]            Training Loss: 0.699981\n",
            "Training Epoch: 12[9600/40000 sentences]            Training Loss: 0.735747\n",
            "Training Epoch: 12[11200/40000 sentences]            Training Loss: 0.698297\n",
            "Training Epoch: 12[12800/40000 sentences]            Training Loss: 0.674331\n",
            "Training Epoch: 12[14400/40000 sentences]            Training Loss: 0.678035\n",
            "Training Epoch: 12[16000/40000 sentences]            Training Loss: 0.692927\n",
            "Training Epoch: 12[17600/40000 sentences]            Training Loss: 0.690893\n",
            "Training Epoch: 12[19200/40000 sentences]            Training Loss: 0.725391\n",
            "Training Epoch: 12[20800/40000 sentences]            Training Loss: 0.689082\n",
            "Training Epoch: 12[22400/40000 sentences]            Training Loss: 0.671457\n",
            "Training Epoch: 12[24000/40000 sentences]            Training Loss: 0.703972\n",
            "Training Epoch: 12[25600/40000 sentences]            Training Loss: 0.679817\n",
            "Training Epoch: 12[27200/40000 sentences]            Training Loss: 0.676459\n",
            "Training Epoch: 12[28800/40000 sentences]            Training Loss: 0.694401\n",
            "Training Epoch: 12[30400/40000 sentences]            Training Loss: 0.678542\n",
            "Training Epoch: 12[32000/40000 sentences]            Training Loss: 0.682228\n",
            "Training Epoch: 12[33600/40000 sentences]            Training Loss: 0.727706\n",
            "Training Epoch: 12[35200/40000 sentences]            Training Loss: 0.754847\n",
            "Training Epoch: 12[36800/40000 sentences]            Training Loss: 0.699227\n",
            "Training Epoch: 12[38400/40000 sentences]            Training Loss: 0.700620\n",
            "After Epoch: 12            Training Loss: 0.688415            Training Accuracy 8.319200            Validation Loss: 0.702899            Validation Accuracy 7.824281\n",
            "Training Epoch: 13[0/40000 sentences]            Training Loss: 0.679833\n",
            "Training Epoch: 13[1600/40000 sentences]            Training Loss: 0.633072\n",
            "Training Epoch: 13[3200/40000 sentences]            Training Loss: 0.681600\n",
            "Training Epoch: 13[4800/40000 sentences]            Training Loss: 0.696176\n",
            "Training Epoch: 13[6400/40000 sentences]            Training Loss: 0.650799\n",
            "Training Epoch: 13[8000/40000 sentences]            Training Loss: 0.656273\n",
            "Training Epoch: 13[9600/40000 sentences]            Training Loss: 0.695957\n",
            "Training Epoch: 13[11200/40000 sentences]            Training Loss: 0.670402\n",
            "Training Epoch: 13[12800/40000 sentences]            Training Loss: 0.668475\n",
            "Training Epoch: 13[14400/40000 sentences]            Training Loss: 0.637427\n",
            "Training Epoch: 13[16000/40000 sentences]            Training Loss: 0.686479\n",
            "Training Epoch: 13[17600/40000 sentences]            Training Loss: 0.679391\n",
            "Training Epoch: 13[19200/40000 sentences]            Training Loss: 0.714311\n",
            "Training Epoch: 13[20800/40000 sentences]            Training Loss: 0.680797\n",
            "Training Epoch: 13[22400/40000 sentences]            Training Loss: 0.682187\n",
            "Training Epoch: 13[24000/40000 sentences]            Training Loss: 0.741279\n",
            "Training Epoch: 13[25600/40000 sentences]            Training Loss: 0.711692\n",
            "Training Epoch: 13[27200/40000 sentences]            Training Loss: 0.678885\n",
            "Training Epoch: 13[28800/40000 sentences]            Training Loss: 0.705102\n",
            "Training Epoch: 13[30400/40000 sentences]            Training Loss: 0.650922\n",
            "Training Epoch: 13[32000/40000 sentences]            Training Loss: 0.641648\n",
            "Training Epoch: 13[33600/40000 sentences]            Training Loss: 0.664179\n",
            "Training Epoch: 13[35200/40000 sentences]            Training Loss: 0.676715\n",
            "Training Epoch: 13[36800/40000 sentences]            Training Loss: 0.692878\n",
            "Training Epoch: 13[38400/40000 sentences]            Training Loss: 0.698886\n",
            "After Epoch: 13            Training Loss: 0.685501            Training Accuracy 8.386400            Validation Loss: 0.703481            Validation Accuracy 7.808307\n",
            "Training Epoch: 14[0/40000 sentences]            Training Loss: 0.677270\n",
            "Training Epoch: 14[1600/40000 sentences]            Training Loss: 0.626913\n",
            "Training Epoch: 14[3200/40000 sentences]            Training Loss: 0.712640\n",
            "Training Epoch: 14[4800/40000 sentences]            Training Loss: 0.714605\n",
            "Training Epoch: 14[6400/40000 sentences]            Training Loss: 0.672572\n",
            "Training Epoch: 14[8000/40000 sentences]            Training Loss: 0.668194\n",
            "Training Epoch: 14[9600/40000 sentences]            Training Loss: 0.684943\n",
            "Training Epoch: 14[11200/40000 sentences]            Training Loss: 0.693344\n",
            "Training Epoch: 14[12800/40000 sentences]            Training Loss: 0.696619\n",
            "Training Epoch: 14[14400/40000 sentences]            Training Loss: 0.659924\n",
            "Training Epoch: 14[16000/40000 sentences]            Training Loss: 0.680190\n",
            "Training Epoch: 14[17600/40000 sentences]            Training Loss: 0.679923\n",
            "Training Epoch: 14[19200/40000 sentences]            Training Loss: 0.700117\n",
            "Training Epoch: 14[20800/40000 sentences]            Training Loss: 0.654630\n",
            "Training Epoch: 14[22400/40000 sentences]            Training Loss: 0.701944\n",
            "Training Epoch: 14[24000/40000 sentences]            Training Loss: 0.662827\n",
            "Training Epoch: 14[25600/40000 sentences]            Training Loss: 0.668022\n",
            "Training Epoch: 14[27200/40000 sentences]            Training Loss: 0.648335\n",
            "Training Epoch: 14[28800/40000 sentences]            Training Loss: 0.709807\n",
            "Training Epoch: 14[30400/40000 sentences]            Training Loss: 0.677642\n",
            "Training Epoch: 14[32000/40000 sentences]            Training Loss: 0.665477\n",
            "Training Epoch: 14[33600/40000 sentences]            Training Loss: 0.758198\n",
            "Training Epoch: 14[35200/40000 sentences]            Training Loss: 0.699396\n",
            "Training Epoch: 14[36800/40000 sentences]            Training Loss: 0.700439\n",
            "Training Epoch: 14[38400/40000 sentences]            Training Loss: 0.742806\n",
            "After Epoch: 14            Training Loss: 0.684252            Training Accuracy 8.476400            Validation Loss: 0.702926            Validation Accuracy 7.776358\n",
            "Training Epoch: 15[0/40000 sentences]            Training Loss: 0.678493\n",
            "Training Epoch: 15[1600/40000 sentences]            Training Loss: 0.653149\n",
            "Training Epoch: 15[3200/40000 sentences]            Training Loss: 0.725709\n",
            "Training Epoch: 15[4800/40000 sentences]            Training Loss: 0.703321\n",
            "Training Epoch: 15[6400/40000 sentences]            Training Loss: 0.655579\n",
            "Training Epoch: 15[8000/40000 sentences]            Training Loss: 0.699019\n",
            "Training Epoch: 15[9600/40000 sentences]            Training Loss: 0.713036\n",
            "Training Epoch: 15[11200/40000 sentences]            Training Loss: 0.695215\n",
            "Training Epoch: 15[12800/40000 sentences]            Training Loss: 0.672816\n",
            "Training Epoch: 15[14400/40000 sentences]            Training Loss: 0.599225\n",
            "Training Epoch: 15[16000/40000 sentences]            Training Loss: 0.681451\n",
            "Training Epoch: 15[17600/40000 sentences]            Training Loss: 0.653498\n",
            "Training Epoch: 15[19200/40000 sentences]            Training Loss: 0.697307\n",
            "Training Epoch: 15[20800/40000 sentences]            Training Loss: 0.719007\n",
            "Training Epoch: 15[22400/40000 sentences]            Training Loss: 0.674352\n",
            "Training Epoch: 15[24000/40000 sentences]            Training Loss: 0.709296\n",
            "Training Epoch: 15[25600/40000 sentences]            Training Loss: 0.658560\n",
            "Training Epoch: 15[27200/40000 sentences]            Training Loss: 0.686954\n",
            "Training Epoch: 15[28800/40000 sentences]            Training Loss: 0.721129\n",
            "Training Epoch: 15[30400/40000 sentences]            Training Loss: 0.702483\n",
            "Training Epoch: 15[32000/40000 sentences]            Training Loss: 0.662409\n",
            "Training Epoch: 15[33600/40000 sentences]            Training Loss: 0.678315\n",
            "Training Epoch: 15[35200/40000 sentences]            Training Loss: 0.688693\n",
            "Training Epoch: 15[36800/40000 sentences]            Training Loss: 0.678486\n",
            "Training Epoch: 15[38400/40000 sentences]            Training Loss: 0.729559\n",
            "After Epoch: 15            Training Loss: 0.682449            Training Accuracy 8.420800            Validation Loss: 0.707641            Validation Accuracy 7.808307\n",
            "Training Epoch: 16[0/40000 sentences]            Training Loss: 0.654104\n",
            "Training Epoch: 16[1600/40000 sentences]            Training Loss: 0.691797\n",
            "Training Epoch: 16[3200/40000 sentences]            Training Loss: 0.701273\n",
            "Training Epoch: 16[4800/40000 sentences]            Training Loss: 0.739680\n",
            "Training Epoch: 16[6400/40000 sentences]            Training Loss: 0.677476\n",
            "Training Epoch: 16[8000/40000 sentences]            Training Loss: 0.700500\n",
            "Training Epoch: 16[9600/40000 sentences]            Training Loss: 0.720149\n",
            "Training Epoch: 16[11200/40000 sentences]            Training Loss: 0.704003\n",
            "Training Epoch: 16[12800/40000 sentences]            Training Loss: 0.671370\n",
            "Training Epoch: 16[14400/40000 sentences]            Training Loss: 0.632013\n",
            "Training Epoch: 16[16000/40000 sentences]            Training Loss: 0.677644\n",
            "Training Epoch: 16[17600/40000 sentences]            Training Loss: 0.684077\n",
            "Training Epoch: 16[19200/40000 sentences]            Training Loss: 0.741501\n",
            "Training Epoch: 16[20800/40000 sentences]            Training Loss: 0.636677\n",
            "Training Epoch: 16[22400/40000 sentences]            Training Loss: 0.709736\n",
            "Training Epoch: 16[24000/40000 sentences]            Training Loss: 0.636497\n",
            "Training Epoch: 16[25600/40000 sentences]            Training Loss: 0.676160\n",
            "Training Epoch: 16[27200/40000 sentences]            Training Loss: 0.672397\n",
            "Training Epoch: 16[28800/40000 sentences]            Training Loss: 0.706681\n",
            "Training Epoch: 16[30400/40000 sentences]            Training Loss: 0.678132\n",
            "Training Epoch: 16[32000/40000 sentences]            Training Loss: 0.678723\n",
            "Training Epoch: 16[33600/40000 sentences]            Training Loss: 0.735378\n",
            "Training Epoch: 16[35200/40000 sentences]            Training Loss: 0.694916\n",
            "Training Epoch: 16[36800/40000 sentences]            Training Loss: 0.742597\n",
            "Training Epoch: 16[38400/40000 sentences]            Training Loss: 0.701251\n",
            "After Epoch: 16            Training Loss: 0.679763            Training Accuracy 8.525200            Validation Loss: 0.708416            Validation Accuracy 7.776358\n"
          ],
          "name": "stdout"
        }
      ]
    },
    {
      "cell_type": "code",
      "metadata": {
        "colab": {
          "background_save": true
        },
        "id": "G-EEiviJZ-do",
        "outputId": "c6f00283-4233-48a6-edfb-6941cdd654eb"
      },
      "source": [
        "! ls"
      ],
      "execution_count": null,
      "outputs": [
        {
          "output_type": "stream",
          "text": [
            "first_run.pkl  glove.6B.zip  sample_data\n"
          ],
          "name": "stdout"
        }
      ]
    },
    {
      "cell_type": "code",
      "metadata": {
        "colab": {
          "background_save": true
        },
        "id": "r0PxlNkKOJIS",
        "outputId": "47b1eb4d-3a95-426d-8730-f61c14b01cfe"
      },
      "source": [
        "fig,axes = plt.subplots(1,4,figsize=(25,6))\n",
        "axes[0].plot(list(range(0,len(trainLosses),1)),trainLosses,label=\"Training loss\")\n",
        "axes[0].legend()\n",
        "axes[1].plot(validationLoss,label=\"Validation loss\")\n",
        "axes[1].legend()\n",
        "axes[2].plot(trainAccuracy,label=\"Training accuracy\")\n",
        "axes[2].legend()\n",
        "axes[3].plot(validationAccuracy,label=\"Validation accuracy\")\n",
        "axes[3].legend()\n",
        "plt.show()"
      ],
      "execution_count": null,
      "outputs": [
        {
          "output_type": "display_data",
          "data": {
            "image/png": "[encoded data removed]",
            "text/plain": [
              "<Figure size 1800x432 with 4 Axes>"
            ]
          },
          "metadata": {
            "tags": []
          }
        }
      ]
    },
    {
      "cell_type": "code",
      "metadata": {
        "colab": {
          "background_save": true
        },
        "id": "do4X9Z0tbg3f",
        "outputId": "881029c3-d657-49ce-a379-3fc10c86d05b"
      },
      "source": [
        "print(\"Time taken in minutes\",(end-start)/60)"
      ],
      "execution_count": null,
      "outputs": [
        {
          "output_type": "stream",
          "text": [
            "Time taken in minutes 48.648439383506776\n"
          ],
          "name": "stdout"
        }
      ]
    },
    {
      "cell_type": "markdown",
      "metadata": {
        "id": "0rOjmNELM9av"
      },
      "source": [
        "# **Testing**"
      ]
    },
    {
      "cell_type": "code",
      "metadata": {
        "colab": {
          "background_save": true
        },
        "id": "Hk3YIUgfLTo8",
        "outputId": "e4d13be2-9b29-4891-baad-36c9651fb3ae"
      },
      "source": [
        "model.eval()\n",
        "\n",
        "softmax = torch.nn.Softmax()\n",
        "true = []\n",
        "pred = []\n",
        "with torch.no_grad():\n",
        "    test_loss = 0\n",
        "    test_accuracy = 0\n",
        "    for _, (test_batch, test_labels ) in enumerate(testLoader):                    \n",
        "        # test_batch = test_batch.reshape(sequence_length,batch_size ,input_size).to(device)\n",
        "    \n",
        "        test_batch = test_batch.reshape(sequence_length,-1 ,input_size).to(device)\n",
        "        test_labels = test_labels.to(device)\n",
        "        test_outputs = model(test_batch).to(device)\n",
        "\n",
        "        \n",
        "        probabilities = softmax(test_outputs) \n",
        "        # print(probabilities)\n",
        "        test_loss+= (criterion(test_outputs, test_labels.long()).item())\n",
        "        test_predictions, test_predicted_class = torch.max(probabilities, 1)\n",
        "       \n",
        "        test_accuracy+=(torch.sum(test_predicted_class==test_labels).item())\n",
        "        \n",
        "        true.extend(test_labels)\n",
        "        pred.extend(test_predictions)\n",
        "\n"
      ],
      "execution_count": null,
      "outputs": [
        {
          "output_type": "stream",
          "text": [
            "/usr/local/lib/python3.6/dist-packages/ipykernel_launcher.py:17: UserWarning: Implicit dimension choice for softmax has been deprecated. Change the call to include dim=X as an argument.\n"
          ],
          "name": "stderr"
        }
      ]
    },
    {
      "cell_type": "code",
      "metadata": {
        "colab": {
          "background_save": true
        },
        "id": "Vr4v8WM8x0hf",
        "outputId": "46a9dbe0-08c5-4bd4-c3da-0d36728cae6f"
      },
      "source": [
        "print(\"Test loss is\",test_loss/len(testLoader.dataset))\n",
        "print(\" Accuracy is\",test_accuracy/len(testLoader.dataset)*100)"
      ],
      "execution_count": null,
      "outputs": [
        {
          "output_type": "stream",
          "text": [
            "Test loss is 0.04413525539636612\n",
            " Accuracy is 50.339999999999996\n"
          ],
          "name": "stdout"
        }
      ]
    },
    {
      "cell_type": "code",
      "metadata": {
        "id": "sTNCMcHEBS1b"
      },
      "source": [
        "roc = roc_curve(true,pred)\n",
        "true_positive_rate = np.array(roc)[:,1]\n",
        "false_positve_rate = np.array(roc)[:,2]\n",
        "\n",
        "print(auc(true_positive_rate,false_positve_rate))\n",
        "precision = np.array(roc)[:,3]\n",
        "\n",
        "fig,axes = plt.subplots(1,2)\n",
        "\n",
        "axes[0].scatter(true_positive_rate,false_positve_rate)\n",
        "axes[1].scatter(true_positive_rate,precision)\n",
        "plt.show()"
      ],
      "execution_count": null,
      "outputs": []
    },
    {
      "cell_type": "code",
      "metadata": {
        "colab": {
          "background_save": true
        },
        "id": "jmI-Mp1VCquC"
      },
      "source": [
        "class BLSTM_ATTENTION(nn.Module):\n",
        "    def __init__(self,input_size,sequence_length,hidden_size,num_layers,num_classes,batch_size,batch_first=False):\n",
        "        super(BLSTM_ATTENTION,self).__init__()\n",
        "        self.input_size = input_size\n",
        "        self.hidden_size=hidden_size     #size of the hidden layer\n",
        "        self.num_layers=num_layers       #if the lstm is stacked\n",
        "        self.batch_first=batch_first \n",
        "        self.batch_size = batch_size\n",
        "        self.sequence_length = sequence_length\n",
        "\n",
        "        #input size will be the size of the inputs x1,...xn\n",
        "        #hidden state has hidden_size\n",
        "        self.bidirLSTM = nn.LSTM(input_size,hidden_size,num_layers,batch_first,dropout = 0.5,bidirectional=True)\n",
        "        \n",
        "        self.attention = nn.Sequential(\n",
        "                                nn.Linear(self.hidden_size,32),\n",
        "                                nn.ReLU(),\n",
        "                                nn.Linear(32,1)\n",
        "                                )\n",
        "             \n",
        "        self.fullyconnected = nn.Linear(hidden_size,num_classes)\n",
        "    def forward(self,x):\n",
        "        #initialze the weights to 0, for every element in the batch\n",
        "        #num_layer,batch_size, hidden_size\n",
        "        \n",
        "        #x.size(1) is the batch size\n",
        "        h_0 = torch.zeros(self.num_layers*2,x.size(1),self.hidden_size).to(device)\n",
        "        c_0 = torch.zeros(self.num_layers*2,x.size(1),self.hidden_size).to(device)\n",
        "        # seqlen,batch, hidden_size*2\n",
        "        out, (h_n,c_n) = self.bidirLSTM(x,(h_0,c_0))\n",
        "        #seq,batch,  hidden\n",
        "        out = out[:, :, :self.hidden_size] + out[:, :, self.hidden_size:]\n",
        "        \n",
        "#         print(\"after joining forward and backward\",out.shape)\n",
        "        \n",
        "        batch = out.size(1)\n",
        "\n",
        "        #for attention make the input to have the output size as the hidden_size\n",
        "        #the attention will return value for the entire batch of sequence\n",
        "        attention_out = self.attention(out.view(-1, self.hidden_size)) # (seq, batch, hidden) -> (seq* batch, 1)\n",
        "        #take softmax of the attention\n",
        "        attention_out = nn.functional.softmax(attention_out.view(batch, -1), dim=1).unsqueeze(2) # (seq* batch, 1) -> (seq, batch, 1)\n",
        "\n",
        "        #making the dimension to be batch sequence 1, multiply the out and the attention layer softmax output probabilities\n",
        "        matrix_mul = (out.permute(1,0,2)* attention_out).sum(dim=1)    \n",
        "\n",
        "        #pass throught the fully connected layer\n",
        "        out = self.fullyconnected(matrix_mul) #b*2\n",
        "        \n",
        "        return out      \n",
        "\n",
        "\n",
        "# embed_size = 50\n",
        "sequence_length = max_length #500\n",
        "input_size = embed_size #50\n",
        "hidden_size = 128\n",
        "num_layers = 2\n",
        "num_classes = 2\n",
        "num_epochs = 2\n",
        "batch_size = 32\n",
        "try:\n",
        "    attention_model = BLSTM_ATTENTION(input_size,sequence_length, hidden_size, num_layers, num_classes,batch_size).to(device)\n",
        "except:\n",
        "    attention_model = BLSTM_ATTENTION(input_size,sequence_length, hidden_size, num_layers, num_classes,batch_size)\n",
        "\n",
        "    \n",
        "learning_rate = 0.003\n",
        "criterion = nn.CrossEntropyLoss()\n",
        "optimizer = torch.optim.Adam(attention_model.parameters(), lr=learning_rate)"
      ],
      "execution_count": null,
      "outputs": []
    },
    {
      "cell_type": "markdown",
      "metadata": {
        "id": "toLaQ3L0ONZf"
      },
      "source": [
        "# **Training**"
      ]
    },
    {
      "cell_type": "code",
      "metadata": {
        "colab": {
          "background_save": true
        },
        "id": "TfIA8ZhDFRyQ"
      },
      "source": [
        "epoch,nEpochs = 0,15\n",
        "log_interval = 100  #step size\n",
        "\n",
        "dataset_size = len(trainLoader.dataset) #number of reviews in training dataset\n",
        "valdata_size = len(valLoader.dataset) #number of reviews in validation dataset\n",
        "best_accuracy = math.inf\n",
        "trainLosses,trainAccuracy,validationAccuracy = [],[],[]\n",
        "validationLoss =[]\n",
        "clip =5\n",
        "# fig,axes = plt.subplots(1,4,figsize=(25,6))\n",
        "start = time.time()\n",
        "\n",
        "while epoch <= nEpochs:# and not stop_training:\n",
        "\n",
        "    attention_model.train()\n",
        "    running_corrects = 0\n",
        "    running_loss = 0\n",
        "    batch = 0\n",
        "    for batch_num, (seq, labels) in enumerate(trainLoader):\n",
        "        # seq = seq.reshape(sequence_length,batch_size ,input_size).to(device)\n",
        "        seq = seq.reshape(sequence_length,-1 ,input_size).to(device)  #the batch size might not be same as batch_size for the last batch\n",
        "        labels = labels.to(device)\n",
        "        \n",
        "        optimizer.zero_grad()\n",
        "        outputs = attention_model(seq).to(device)\n",
        "        _,predictions =  torch.max(outputs, 1) #max of the final layer \n",
        "        running_corrects += (torch.sum(predictions==labels).item()) #number of right predicitions         \n",
        "        \n",
        "        #backpropagate\n",
        "        with torch.set_grad_enabled(True):\n",
        "            loss = criterion(outputs, labels.long())\n",
        "            loss.backward()\n",
        "            nn.utils.clip_grad_norm_(attention_model.parameters(), clip)\n",
        "            optimizer.step()\n",
        "\n",
        "        loss_value = loss.detach().item()\n",
        "        running_loss += loss_value\n",
        "        # batch += len(trainLoader)\n",
        "        if batch_num % log_interval == 0:  #at step size, output batch loss        \n",
        "            print('Training Epoch: {0}[{1}/{2} sentences]\\\n",
        "            Training Loss: {3:.6f}'.format(epoch+1, batch_num * batch_size,dataset_size,loss_value))   \n",
        "    trainAccuracy.append(running_corrects/len(trainLoader))\n",
        "    trainLosses.append(running_loss/len(trainLoader))\n",
        "\n",
        "\n",
        "    #validation\n",
        "    attention_model.eval()\n",
        "    with torch.set_grad_enabled(False):  #gradient not backpack propagated\n",
        "        val_losses = 0\n",
        "        val_accuracy = 0\n",
        "        for _, (val_batch, val_labels ) in enumerate(valLoader):                    \n",
        "            # val_batch = val_batch.reshape(sequence_length,batch_size ,input_size).to(device)\n",
        "            val_batch = val_batch.reshape(sequence_length,-1 ,input_size).to(device)\n",
        "            val_labels = val_labels.to(device)\n",
        "            val_outputs = attention_model(val_batch).to(device)\n",
        "            #find the average loss and the total loss\n",
        "            val_losses+=(criterion(val_outputs, val_labels.long()).item())\n",
        "\n",
        "            _, val_predictions = torch.max(val_outputs, 1)\n",
        "            val_accuracy+=(torch.sum(val_predictions==val_labels).item() )\n",
        "\n",
        "        validationAccuracy.append(val_accuracy/len(valLoader)) \n",
        "        validationLoss.append(val_losses/len(valLoader))\n",
        "\n",
        "    print('After Epoch: {0}\\\n",
        "            Training Loss: {1:.6f}\\\n",
        "            Training Accuracy {2:.6f}\\\n",
        "            Validation Loss: {3:.6f}\\\n",
        "            Validation Accuracy {4:.6f}'.format(epoch+1,trainLosses[-1],trainAccuracy[-1],validationLoss[-1],validationAccuracy[-1])) \n",
        "        \n",
        "    \n",
        "    if validationAccuracy[-1] > best_accuracy:\n",
        "            best_Accuracy = validationAccuracy[-1]\n",
        "            best_model_weights = copy.deepcopy(attention_model.state_dict())            \n",
        "            torch.save(best_model_weights, path+filename+\".pt\") \n",
        "    with open(path+filename+\".pkl\",\"wb\") as f:\n",
        "        pickle.dump([trainLosses,trainAccuracy,validationAccuracy],f)\n",
        "                                 \n",
        "    # axes[0].plot(trainLosses,label=\"Training loss\")\n",
        "    # axes[1].plot(validationLoss,label=\"Validation loss\")\n",
        "    # axes[3].plot(validationAccuracy,label=\"Validation accuracy\")\n",
        "    # axes[2].plot(trainAccuracy,label=\"Training accuracy\")\n",
        "    \n",
        "    epoch = epoch + 1\n",
        "    \n",
        "end = time.time()\n",
        "# plt.show()\n"
      ],
      "execution_count": null,
      "outputs": []
    },
    {
      "cell_type": "code",
      "metadata": {
        "colab": {
          "background_save": true
        },
        "id": "mXgf50xTFRyY"
      },
      "source": [
        "fig,axes = plt.subplots(1,4,figsize=(25,6))\n",
        "axes[0].plot(list(range(0,len(trainLosses),1)),trainLosses,label=\"Training loss\")\n",
        "axes[0].legend()\n",
        "axes[1].plot(validationLoss,label=\"Validation loss\")\n",
        "axes[1].legend()\n",
        "axes[2].plot(trainAccuracy,label=\"Training accuracy\")\n",
        "axes[2].legend()\n",
        "axes[3].plot(validationAccuracy,label=\"Validation accuracy\")\n",
        "axes[3].legend()\n",
        "plt.show()"
      ],
      "execution_count": null,
      "outputs": []
    },
    {
      "cell_type": "markdown",
      "metadata": {
        "id": "mxm7WUQIORLO"
      },
      "source": [
        "# **Testing**"
      ]
    },
    {
      "cell_type": "code",
      "metadata": {
        "colab": {
          "background_save": true
        },
        "id": "KORfud52FwzH"
      },
      "source": [
        "attention_model.eval()\n",
        "\n",
        "softmax = torch.nn.Softmax()\n",
        "true = []\n",
        "pred = []\n",
        "with torch.no_grad():\n",
        "    test_loss = 0\n",
        "    test_accuracy = 0\n",
        "    for _, (test_batch, test_labels ) in enumerate(testLoader):                    \n",
        "        # test_batch = test_batch.reshape(sequence_length,batch_size ,input_size).to(device)\n",
        "    \n",
        "        test_batch = test_batch.reshape(sequence_length,-1 ,input_size).to(device)\n",
        "        test_labels = test_labels.to(device)\n",
        "        test_outputs = attention_model(test_batch).to(device)\n",
        "\n",
        "        \n",
        "        probabilities = softmax(test_outputs) \n",
        "        # print(probabilities)\n",
        "        test_loss+= (criterion(test_outputs, test_labels.long()).item())\n",
        "        test_predictions, test_predicted_class = torch.max(probabilities, 1)\n",
        "       \n",
        "        test_accuracy+=(torch.sum(test_predicted_class==test_labels).item())\n",
        "        \n",
        "        true.extend(test_labels)\n",
        "        pred.extend(test_predictions)\n"
      ],
      "execution_count": null,
      "outputs": []
    },
    {
      "cell_type": "code",
      "metadata": {
        "id": "0_iEZmwhGDfP"
      },
      "source": [
        "print(\"Test loss is\",test_loss/len(testLoader.dataset))\n",
        "print(\" Accuracy is\",test_accuracy/len(testLoader.dataset)*100)"
      ],
      "execution_count": null,
      "outputs": []
    }
  ]
}